{
 "cells": [
  {
   "cell_type": "markdown",
   "id": "2ff468d7",
   "metadata": {
    "tags": []
   },
   "source": [
    "# BG for Chignolin\n",
    "\n",
    "Use the `bgflow` branch `factory`."
   ]
  },
  {
   "cell_type": "code",
   "execution_count": 1,
   "id": "f67f9879-188e-4b1c-a1e1-e9c5ece9d716",
   "metadata": {},
   "outputs": [],
   "source": [
    "from tqdm.auto import tqdm\n",
    "import time\n",
    "from torch.optim.lr_scheduler import ExponentialLR\n",
    "import ipywidgets as widgets\n",
    "import ipdb"
   ]
  },
  {
   "cell_type": "code",
   "execution_count": 2,
   "id": "e99b3445",
   "metadata": {},
   "outputs": [],
   "source": [
    "import logging\n",
    "logger = logging.getLogger()\n",
    "logger.setLevel(logging.INFO)\n",
    "logging.debug(\"test\")"
   ]
  },
  {
   "cell_type": "markdown",
   "id": "c99b073c",
   "metadata": {},
   "source": [
    "import torch\n",
    "\n",
    "ctx = {\n",
    "    \"device\": torch.device(\"cuda:0\") if torch.cuda.is_available else torch.device(\"cpu\"),\n",
    "    \"dtype\": torch.float32\n",
    "}\n",
    "ctx"
   ]
  },
  {
   "cell_type": "code",
   "execution_count": 3,
   "id": "c1174892",
   "metadata": {},
   "outputs": [
    {
     "data": {
      "text/plain": [
       "{'device': device(type='cpu'), 'dtype': torch.float32}"
      ]
     },
     "execution_count": 3,
     "metadata": {},
     "output_type": "execute_result"
    }
   ],
   "source": [
    "import torch\n",
    "\n",
    "ctx = {\n",
    "    \"device\": torch.device(\"cpu\"),#torch.device(\"cuda:0\") if torch.cuda.is_available else torch.device(\"cpu\"),\n",
    "    \"dtype\": torch.float32\n",
    "}\n",
    "ctx"
   ]
  },
  {
   "cell_type": "code",
   "execution_count": null,
   "id": "9b15e6cb-44fc-42c1-9d0d-06c76a654668",
   "metadata": {},
   "outputs": [],
   "source": []
  },
  {
   "cell_type": "code",
   "execution_count": 8,
   "id": "93b8cc9a-f009-45f7-baa2-a05fa2cffcc8",
   "metadata": {},
   "outputs": [],
   "source": [
    "import pandas\n",
    "\n",
    "pandas.set_option(\"display.max_rows\", None)\n",
    "\n",
    "def compute_phi_psi(traj):\n",
    "    \"\"\"Compute backbone dihedrals.\n",
    "\n",
    "    Parameters\n",
    "    ----------\n",
    "    traj : mdtraj.Trajectory\n",
    "    \"\"\"\n",
    "    phi_atoms = [25,27,29,46]\n",
    "    phi = md.compute_dihedrals(traj, indices=[phi_atoms])[:, 0]\n",
    "    psi_atoms = [27,29,46,48]\n",
    "    psi = md.compute_dihedrals(traj, indices=[psi_atoms])[:, 0]\n",
    "    return phi, psi\n",
    "import bgmol\n",
    "import numpy as np\n",
    "import mdtraj as md \n",
    "from matplotlib import pyplot as plt\n",
    "from matplotlib.colors import LogNorm\n",
    "import nglview as nv\n",
    "\n",
    "def plot_phi_psi(ax, trajectory, system):\n",
    "    if not isinstance(trajectory, md.Trajectory):\n",
    "        trajectory = md.Trajectory(\n",
    "            xyz=trajectory.reshape(-1, 175, 3), \n",
    "            topology=system.mdtraj_topology\n",
    "        )\n",
    "    phi, psi = compute_phi_psi(trajectory)\n",
    "    \n",
    "    ax.hist2d(phi, psi, 50, norm=LogNorm())\n",
    "    ax.set_xlim(-np.pi, np.pi)\n",
    "    ax.set_ylim(-np.pi, np.pi)\n",
    "    ax.set_xlabel(\"$\\phi$\")\n",
    "    _ = ax.set_ylabel(\"$\\psi$\")\n",
    "    \n",
    "    return trajectory\n",
    "def plot_energies_zoom(ax, samples, target_energy, test_data):\n",
    "    sample_energies = target_energy.energy(torch.Tensor(samples)).numpy()\n",
    "    md_energies = target_energy.energy(torch.Tensor(test_data[:len(samples)])).cpu().detach().numpy()\n",
    "    cut = max(np.percentile(sample_energies, 80), 20)\n",
    "    \n",
    "    ax.set_xlabel(\"Energy   [$k_B T$]\")\n",
    "    # y-axis on the right\n",
    "    ax2 = plt.twinx(ax)\n",
    "    ax.get_yaxis().set_visible(False)\n",
    "    \n",
    "    ax2.hist(sample_energies, range=(-50, cut), bins=40, density=False, label=\"BG\")\n",
    "    ax2.hist(md_energies, range=(-50, cut), bins=40, density=False, label=\"MD\")\n",
    "    ax2.set_ylabel(f\"Count   [#Samples / {len(samples)}]\")\n",
    "    ax2.legend()\n",
    "    ax2.set_xlim([-50, 100])\n",
    "\n",
    "def plot_energies(ax, samples, target_energy, test_data):\n",
    "    sample_energies = target_energy.energy(torch.Tensor(samples)).numpy()\n",
    "    md_energies = target_energy.energy(torch.Tensor(test_data[:len(samples)])).cpu().detach().numpy()\n",
    "    cut = max(np.percentile(sample_energies, 80), 20)\n",
    "    \n",
    "    ax.set_xlabel(\"Energy   [$k_B T$]\")\n",
    "    # y-axis on the right\n",
    "    ax2 = plt.twinx(ax)\n",
    "    ax.get_yaxis().set_visible(False)\n",
    "    \n",
    "    ax2.hist(sample_energies, range=(-50, cut), bins=40, density=False, label=\"BG\")\n",
    "    ax2.hist(md_energies, range=(-50, cut), bins=40, density=False, label=\"MD\")\n",
    "    ax2.set_ylabel(f\"Count   [#Samples / {len(samples)}]\")\n",
    "    ax2.legend()\n",
    "\n",
    "def angle_marginal_estimate_complement(\n",
    "        system,\n",
    "        angles,\n",
    "        coordinate_transform,\n",
    "        temperature,\n",
    "        min_angle=0.05,\n",
    "        max_angle=None,\n",
    "        device=torch.device(\"cpu\"),\n",
    "        dtype=torch.get_default_dtype()\n",
    "):\n",
    "    \"\"\"Estimate the marginal distribution of angles\n",
    "    from force field parameters.\n",
    "    Parameters\n",
    "    ----------\n",
    "    system : openmm.System\n",
    "        The openmm system that contains all information about the energy function and constraints.\n",
    "    coordinate_transform : bgflow CoordinateTransformation\n",
    "    temperature : float\n",
    "        Temperature in Kelvin.\n",
    "    min_angle : float, optional\n",
    "        The minimum angle of the returned distribution.\n",
    "    max_angle : float, optional\n",
    "        The maximum angle of the returned distribution.\n",
    "    device : torch.device, optional\n",
    "        The device on which the returned distribution operates.\n",
    "    dtype : torch.dtype, optional\n",
    "        The data type on which the returned distribution operates.\n",
    "    Returns\n",
    "    -------\n",
    "    distribution : bgflow.TruncatedNormalDistribution\n",
    "        The estimated marginal distribution of angles.\n",
    "        If the coordinate transform produces normalized angles in [0,1],\n",
    "        the marginal distribution will produce normalized angles, too.\n",
    "    \"\"\"\n",
    "    import bgflow as bg\n",
    "    if max_angle is None:\n",
    "        max_angle = 1.0 if coordinate_transform.normalize_angles else np.pi\n",
    "    angles = angles\n",
    "    equilibria, force_constants = bgmol.util.ff.lookup_angles(system, angles, temperature=temperature)\n",
    "    if coordinate_transform.normalize_angles:\n",
    "        equilibria = equilibria / np.pi\n",
    "        force_constants = force_constants * np.pi**2\n",
    "    sigma = 1.0 / np.sqrt(force_constants)\n",
    "    distribution = bg.TruncatedNormalDistribution(\n",
    "        mu=torch.tensor(equilibria, device=device, dtype=dtype),\n",
    "        sigma=torch.tensor(sigma, device=device, dtype=dtype),\n",
    "        lower_bound=torch.tensor(min_angle, device=device, dtype=dtype),\n",
    "        upper_bound=torch.tensor(max_angle, device=device, dtype=dtype)\n",
    "    )\n",
    "    _mu = distribution._buffers[\"_mu\"].item()\n",
    "    _logsigma = distribution._buffers[\"_logsigma\"].item()\n",
    "    return _mu, _logsigma"
   ]
  },
  {
   "cell_type": "code",
   "execution_count": 9,
   "id": "2864894f-5b74-48bc-9b4f-769c5c7af809",
   "metadata": {},
   "outputs": [],
   "source": [
    "def unnormalized_kl_div_U(prior, flow, target, n_samples, temperature=1.0):\n",
    "    z = prior.sample(n_samples, temperature=temperature)\n",
    "    if isinstance(z, torch.Tensor):\n",
    "        z = (z,)\n",
    "    *x, dlogp = flow(*z, temperature=temperature)\n",
    "    return target.energy(*x, temperature=temperature)\n",
    "def unnormalized_kl_div_H(prior, flow, target, n_samples, temperature=1.0):\n",
    "    z = prior.sample(n_samples, temperature=temperature)\n",
    "    if isinstance(z, torch.Tensor):\n",
    "        z = (z,)\n",
    "    *x, dlogp = flow(*z, temperature=temperature)\n",
    "    return  - dlogp\n"
   ]
  },
  {
   "cell_type": "markdown",
   "id": "fcba6f74",
   "metadata": {
    "tags": []
   },
   "source": [
    "## Read Dataset and System"
   ]
  },
  {
   "cell_type": "code",
   "execution_count": 10,
   "id": "0312d5e1-9e40-4fc7-9abd-6d2ebc7904db",
   "metadata": {},
   "outputs": [],
   "source": [
    "from bgmol.datasets import chignolin"
   ]
  },
  {
   "cell_type": "code",
   "execution_count": 18,
   "id": "adfee44d",
   "metadata": {},
   "outputs": [
    {
     "name": "stdout",
     "output_type": "stream",
     "text": [
      "Using downloaded and verified file: /home/marcel/Documents/krämer/bgflow/notebooks/ChignolinOBC2PT.tgz\n",
      "Extracting /home/marcel/Documents/krämer/bgflow/notebooks/ChignolinOBC2PT.tgz to /home/marcel/Documents/krämer/bgflow/notebooks\n",
      "Using downloaded and verified file: /tmp/parameters_ak_dihefix.prm\n",
      "Using downloaded and verified file: /tmp/structure.pdb\n",
      "Using downloaded and verified file: /tmp/structure.psf\n",
      "Using downloaded and verified file: /tmp/top_all22star_prot.rtf\n",
      "Using downloaded and verified file: /tmp/top_water_ions.rtf\n",
      "Using downloaded and verified file: /tmp/chignolin_tica.npz\n"
     ]
    }
   ],
   "source": [
    "from bgmol.zmatrix import ZMatrixFactory\n",
    "import os\n",
    "\n",
    "is_data_here = os.path.isdir(\"/srv/public/kraemea88/projects/bg_chignolin2\")\n",
    "dataset = chignolin.ChignolinOBC2PT(read=True, download=True)\n",
    "#dataset = ChignolinOBC2PT(read=True, download=(not is_data_here))\n",
    "system = dataset.system"
   ]
  },
  {
   "cell_type": "code",
   "execution_count": 19,
   "id": "28f449eb-e654-4efe-b0f8-7796bef7b190",
   "metadata": {},
   "outputs": [],
   "source": [
    "target_real = dataset.get_energy_model(n_workers=6)"
   ]
  },
  {
   "cell_type": "code",
   "execution_count": 20,
   "id": "1c782578-88de-438b-85b8-311a785587ac",
   "metadata": {
    "scrolled": true
   },
   "outputs": [],
   "source": [
    "import bgflow as bg\n",
    "target = bg.LinLogCutEnergy(dataset.get_energy_model(n_workers=6), high_energy=100., max_energy=1000.)\n",
    "\n",
    "trajectory = dataset.trajectory\n",
    "trajectory.superpose(trajectory)\n",
    "data = trajectory.xyz.reshape(len(dataset), -1)\n",
    "\n",
    "from matplotlib import pyplot as plt\n",
    "from matplotlib.colors import LogNorm\n",
    "import mdtraj as md\n",
    "import nglview as nv\n",
    "from bgflow.utils import as_numpy\n",
    "\n",
    "def show_structures(traj, top=system.mdtraj_topology):\n",
    "    if not isinstance(traj, md.Trajectory):\n",
    "        n_samples = traj.shape[0]\n",
    "        traj = md.Trajectory(traj.reshape(n_samples, -1, 3), topology=top)\n",
    "    traj.superpose(traj)\n",
    "    widget = nv.show_mdtraj(traj)\n",
    "    widget.add_representation(\"licorice\")\n",
    "    return widget\n",
    "    \n",
    "def plot_tics(xyz, ax, system=system, lims=((-1.5, 2), (-1.5, 3.5))):\n",
    "    n_samples = xyz.shape[0]\n",
    "    xyz = as_numpy(xyz.reshape(n_samples, -1))\n",
    "    tics = system.to_tics(xyz)\n",
    "    \n",
    "    ax.hist2d(\n",
    "        tics[:,0], tics[:,1], \n",
    "        bins=100,\n",
    "        range=lims, \n",
    "        norm=LogNorm(vmax=10, vmin=1e-4),\n",
    "        density=True\n",
    "    )\n",
    "    ax.set_xlabel(\"TIC1\")\n",
    "    ax.set_ylabel(\"TIC2\")\n",
    "    ax.set_xlim(*lims[0])\n",
    "    ax.set_ylim(*lims[1])"
   ]
  },
  {
   "cell_type": "code",
   "execution_count": 21,
   "id": "775ead8d",
   "metadata": {
    "scrolled": true
   },
   "outputs": [
    {
     "data": {
      "image/png": "[encoded data removed]",
      "text/plain": [
       "<Figure size 216x216 with 1 Axes>"
      ]
     },
     "metadata": {
      "needs_background": "light"
     },
     "output_type": "display_data"
    }
   ],
   "source": [
    "fig, ax = plt.subplots(figsize=(3,3))\n",
    "plot_tics(data, ax)\n",
    "wid=show_structures(data)"
   ]
  },
  {
   "cell_type": "markdown",
   "id": "c9b5157a",
   "metadata": {},
   "source": [
    "## Build Coordinate Transform"
   ]
  },
  {
   "cell_type": "code",
   "execution_count": 27,
   "id": "4bdc14b7",
   "metadata": {},
   "outputs": [],
   "source": [
    "USE_MIXED = False\n",
    "\n",
    "if USE_MIXED:\n",
    "\n",
    "    factory = ZMatrixFactory(system.mdtraj_topology, cartesian=\"backbone and (element C or element N)\")\n",
    "    zmatrix, fixed_atoms = factory.build_with_templates()\n",
    "\n",
    "    coordinate_transform = bg.MixedCoordinateTransformation(\n",
    "        z_matrix=zmatrix,\n",
    "        data=torch.as_tensor(data, **ctx),\n",
    "        fixed_atoms=fixed_atoms,\n",
    "        keepdims=3*len(fixed_atoms) - 6\n",
    "    )\n",
    "    \n",
    "else:\n",
    "    \n",
    "    factory = ZMatrixFactory(system.mdtraj_topology)\n",
    "    zmatrix, _ = factory.build_with_templates()\n",
    "   # zmatrix, _ = factory.build_naive(render_independent=False)\n",
    "\n",
    "    coordinate_transform = bg.GlobalInternalCoordinateTransformation(\n",
    "        z_matrix=zmatrix\n",
    "    )\n",
    "    "
   ]
  },
  {
   "cell_type": "code",
   "execution_count": 28,
   "id": "b0aaa571",
   "metadata": {},
   "outputs": [],
   "source": [
    "# Find constrained hydrogen bonds\n",
    "from bgmol.util.ff import bond_constraints\n",
    "bond_indices, bond_lengths = bond_constraints(system.system, coordinate_transform)"
   ]
  },
  {
   "cell_type": "code",
   "execution_count": 29,
   "id": "e78b9d45",
   "metadata": {},
   "outputs": [
    {
     "data": {
      "text/plain": [
       "ShapeDictionary([(TensorInfo(name='BONDS', is_circular=False), (96,)),\n",
       "                 (TensorInfo(name='ANGLES', is_circular=False), (173,)),\n",
       "                 (TensorInfo(name='TORSIONS', is_circular=True), (172,))])"
      ]
     },
     "execution_count": 29,
     "metadata": {},
     "output_type": "execute_result"
    }
   ],
   "source": [
    "shape_info = bg.ShapeDictionary.from_coordinate_transform(\n",
    "    coordinate_transform,\n",
    "    n_constraints=len(bond_indices)\n",
    ")\n",
    "shape_info"
   ]
  },
  {
   "cell_type": "markdown",
   "id": "9fba19f7",
   "metadata": {},
   "source": [
    "## Build Flow\n",
    "\n",
    "Basic version of a chignolin flow"
   ]
  },
  {
   "cell_type": "code",
   "execution_count": 30,
   "id": "a6509e49-169f-4296-8ed9-5ce3553f59d7",
   "metadata": {},
   "outputs": [
    {
     "name": "stderr",
     "output_type": "stream",
     "text": [
      "INFO:bgflow:BG Builder  :::  (BONDS: (96,); ANGLES: (173,); TORSIONS: (172,))\n",
      "INFO:bgflow:--------------- cleared builder ----------------\n",
      "INFO:bgflow:  + Coupling Layer: (ANGLES, BONDS) -> (TORSIONS)\n",
      "INFO:bgflow:  + Coupling Layer: (TORSIONS) -> (BONDS, ANGLES)\n",
      "INFO:bgflow:  + Coupling Layer: (ANGLES, BONDS) -> (TORSIONS)\n",
      "INFO:bgflow:  + Coupling Layer: (TORSIONS) -> (BONDS, ANGLES)\n",
      "INFO:bgflow:  + Coupling Layer: (ANGLES, BONDS) -> (TORSIONS)\n",
      "INFO:bgflow:  + Coupling Layer: (TORSIONS) -> (BONDS, ANGLES)\n",
      "INFO:bgflow:  + Coupling Layer: (ANGLES, BONDS) -> (TORSIONS)\n",
      "INFO:bgflow:  + Coupling Layer: (TORSIONS) -> (BONDS, ANGLES)\n"
     ]
    }
   ],
   "source": [
    "builder = bg.BoltzmannGeneratorBuilder(shape_info, target, **ctx)\n",
    "\n",
    "from bgflow import FIXED, TORSIONS, ANGLES, BONDS\n",
    "\n",
    "builder.clear()\n",
    "\n",
    "if USE_MIXED:\n",
    "    \n",
    "    for i in range(4):\n",
    "        builder.add_condition(what=FIXED, on=(TORSIONS, ANGLES, BONDS))\n",
    "        builder.add_condition(what=TORSIONS, on=(FIXED, ANGLES, BONDS))\n",
    "        builder.add_condition(what=(BONDS, ANGLES), on=(FIXED, TORSIONS))\n",
    "\n",
    "else:\n",
    "    \n",
    "    for i in range(4):\n",
    "        builder.add_condition(what=TORSIONS, on=(ANGLES, BONDS))\n",
    "        builder.add_condition(what=(BONDS, ANGLES), on=(TORSIONS, ))\n",
    "    "
   ]
  },
  {
   "cell_type": "markdown",
   "id": "8b68961d-a506-435c-85a0-ab028f114577",
   "metadata": {},
   "source": [
    "### correct for missing parameters in TYR"
   ]
  },
  {
   "cell_type": "code",
   "execution_count": 31,
   "id": "35059d7c-28e1-4d37-af45-f6f221ba3be2",
   "metadata": {},
   "outputs": [
    {
     "name": "stderr",
     "output_type": "stream",
     "text": [
      "INFO:bgflow:  + Set Constant: TensorInfo(name='BONDS_constrained', is_circular=False) at index 3\n",
      "INFO:bgflow:  + Merge: (BONDS, BONDS_constrained) -> ['BONDS']\n",
      "INFO:bgflow:  + Set Constant: TensorInfo(name='ORIGIN', is_circular=False) at index 3\n",
      "INFO:bgflow:  + Set Constant: TensorInfo(name='ROTATION', is_circular=False) at index 4\n",
      "INFO:bgflow:--------------- cleared builder ----------------\n"
     ]
    }
   ],
   "source": [
    "\n",
    "icmarginals = bg.InternalCoordinateMarginals(builder.current_dims, builder.ctx)\n",
    "\n",
    "#%%debug\n",
    "\n",
    "\n",
    "icmarginals.inform_with_force_field(\n",
    "    system.system,\n",
    "    coordinate_transform,\n",
    "    dataset.temperature,\n",
    "    torsions=None\n",
    ")\n",
    "\n",
    "_mu = icmarginals[ANGLES]._buffers[\"_mu\"].clone()\n",
    "wrong_entries = np.where(np.isclose(_mu,_mu[37]))\n",
    "\n",
    "\n",
    "angle_in_question = np.array([[23,18,16]])\n",
    "\n",
    "mu_complement, logsigma_complement = angle_marginal_estimate_complement(system._system, angles = angle_in_question, coordinate_transform = coordinate_transform, temperature = dataset.temperature)\n",
    "\n",
    "mu_correct = (1-mu_complement)/2\n",
    "logsigma_correct = logsigma_complement - np.log(2)\n",
    "cdf_lower_bound_correct = 0.0000\n",
    "cdf_upper_bound_correct = 1.0000\n",
    "\n",
    "icmarginals[ANGLES]._buffers[\"_mu\"][wrong_entries] = torch.Tensor([mu_correct])\n",
    "icmarginals[ANGLES]._buffers[\"_logsigma\"][wrong_entries] = torch.Tensor([logsigma_correct])\n",
    "icmarginals[ANGLES]._buffers[\"_cdf_lower_bound\"][wrong_entries] = torch.Tensor([cdf_lower_bound_correct])\n",
    "icmarginals[ANGLES]._buffers[\"_cdf_upper_bound\"][wrong_entries] = torch.Tensor([cdf_upper_bound_correct])\n",
    "\n",
    "icmarginals[ANGLES]._buffers[\"_logsigma\"][wrong_entries]\n",
    "\n",
    "builder.add_map_to_ic_domains(icmarginals)\n",
    "\n",
    "builder.add_merge_constraints(bond_indices, bond_lengths, field=BONDS)\n",
    "builder.add_map_to_cartesian(coordinate_transform)\n",
    "\n",
    "generator = builder.build_generator()"
   ]
  },
  {
   "cell_type": "code",
   "execution_count": 32,
   "id": "472e16c7",
   "metadata": {},
   "outputs": [],
   "source": [
    "#Test\n",
    "_ = generator.sample(10)\n",
    "_ = generator.energy(torch.tensor(data[:10], **ctx))"
   ]
  },
  {
   "cell_type": "code",
   "execution_count": 39,
   "id": "a40d29e0",
   "metadata": {},
   "outputs": [],
   "source": [
    "from torch.utils.data import TensorDataset, DataLoader, random_split\n",
    "\n",
    "n_val = int(0.2 * len(data))\n",
    "n_train = len(data) - n_val\n",
    "\n",
    "traindata, valdata = random_split(\n",
    "    torch.as_tensor(data),\n",
    "    [n_train, n_val],\n",
    "    generator=torch.Generator().manual_seed(12315)\n",
    ")"
   ]
  },
  {
   "cell_type": "code",
   "execution_count": 40,
   "id": "c935d07d-58a2-41d2-9427-905727881d94",
   "metadata": {},
   "outputs": [],
   "source": [
    "def generator_metrics(generator = generator, valdata = valdata[:10000]):\n",
    "    with torch.no_grad():\n",
    "                valloader = DataLoader(valdata, batch_size=1024, shuffle=True)\n",
    "            \n",
    "                val_nll = [\n",
    "                    generator.energy(batch.to(**ctx)).detach().cpu()\n",
    "                    for batch in valloader\n",
    "                ]\n",
    "                \n",
    "                val_U = [\n",
    "                    unnormalized_kl_div_U(generator._prior, generator._flow, target = target_real, n_samples = 1024).detach().cpu()\n",
    "                    for batch in valloader\n",
    "                ]\n",
    "                \n",
    "                val_H = [\n",
    "                    unnormalized_kl_div_H(generator._prior, generator._flow, target = generator._target, n_samples = 1024).detach().cpu()\n",
    "                    for batch in valloader\n",
    "                ]\n",
    "                \n",
    "                \n",
    "                print(f\"Validation NLL {torch.cat(val_nll).mean().item():.2f}\")\n",
    "                print(f\"Validation U (1st quantile) {np.quantile(torch.cat(val_U), q = [0.25]).item():.2e}\")\n",
    "                print(f\"Validation U (median) {torch.cat(val_U).median().item():.2e}\")\n",
    "                print(f\"Validation U (3rd quantile) {np.quantile(torch.cat(val_U), q = [0.75]).item():.2e}\")\n",
    "                print(f\"Validation H {torch.cat(val_H).mean().item():.2f}\")\n",
    "            \n",
    "\n",
    "        "
   ]
  },
  {
   "cell_type": "code",
   "execution_count": 41,
   "id": "9723eb47-2f01-4d57-90c3-c85ff5b19379",
   "metadata": {},
   "outputs": [],
   "source": [
    "def get_extension(samples):\n",
    "    xyzs = samples.reshape(samples.shape[0],-1,3)\n",
    "    atom1, atom10 = xyzs[:,0,:], xyzs[:,150,:]\n",
    "    distance = np.linalg.norm(atom1 - atom10, axis = 1).mean()\n",
    "    return distance\n",
    "\n",
    "def evaluate_generator(generator, samples, true_target = False, num_energy = 1000, num_widget = 100):\n",
    "\n",
    "    extension = get_extension(samples)\n",
    "    print(f'mean extension: {extension:.2f}')\n",
    "    \n",
    "    \n",
    "    fig, axes = plt.subplots(1, 3, figsize=(9,3))\n",
    "    \n",
    "    if true_target:\n",
    "        plot_energies(axes[1], samples[:num_energy], target_real, data)\n",
    "    else:\n",
    "        plot_energies(axes[1], samples[:num_energy], target, data)\n",
    "    plot_tics(samples, axes[0])\n",
    "    plot_phi_psi(axes[2], samples, system)\n",
    "    fig.tight_layout()\n",
    "    global widget\n",
    "    widget = show_structures(samples_sorted[:100])\n",
    "    \n",
    "    init_value = np.around(energies_sorted[0].item(), decimals = 2)\n",
    "    output2 = widgets.BoundedFloatText(\n",
    "        value = init_value,\n",
    "        description='Energy:',\n",
    "        disabled=True,\n",
    "        min = -1e20,\n",
    "        max = 1e50\n",
    "    )\n",
    "    display(output2)\n",
    "    \n",
    "    def on_value_change(change):\n",
    "        value = np.around(energies_sorted[change['new']].item(), decimals = 2)\n",
    "        output2.value = value\n",
    "    widget._iplayer._trait_values[\"children\"][1].observe(on_value_change, names='value')\n",
    "\n",
    "    display(widget)    "
   ]
  },
  {
   "cell_type": "markdown",
   "id": "7e6dab79",
   "metadata": {},
   "source": [
    "## Train"
   ]
  },
  {
   "cell_type": "code",
   "execution_count": 42,
   "id": "89a0eaa8",
   "metadata": {},
   "outputs": [],
   "source": [
    "optim = torch.optim.Adam(generator.parameters(), lr=1e-3)"
   ]
  },
  {
   "cell_type": "code",
   "execution_count": null,
   "id": "9122ce7a-e2cc-40f6-8801-37dd2f5feda6",
   "metadata": {},
   "outputs": [],
   "source": []
  },
  {
   "cell_type": "code",
   "execution_count": null,
   "id": "8c2943af-a0ba-45ad-a960-dee588a4dddc",
   "metadata": {},
   "outputs": [],
   "source": []
  },
  {
   "cell_type": "code",
   "execution_count": null,
   "id": "2714a8ad-59ee-43b3-8373-ee06addae957",
   "metadata": {},
   "outputs": [],
   "source": []
  },
  {
   "cell_type": "code",
   "execution_count": null,
   "id": "2f0c9df0-1558-472d-ac88-d6731baf9b66",
   "metadata": {},
   "outputs": [],
   "source": []
  },
  {
   "cell_type": "code",
   "execution_count": null,
   "id": "15b663f3-6f78-4b77-805e-7c5e5671be69",
   "metadata": {},
   "outputs": [],
   "source": []
  },
  {
   "cell_type": "code",
   "execution_count": 46,
   "id": "c3c44ea1",
   "metadata": {
    "scrolled": true
   },
   "outputs": [
    {
     "data": {
      "application/vnd.jupyter.widget-view+json": {
       "model_id": "c492def2cdbe4a118c832078226f5a36",
       "version_major": 2,
       "version_minor": 0
      },
      "text/plain": [
       "  0%|          | 0/30 [00:00<?, ?it/s]"
      ]
     },
     "metadata": {},
     "output_type": "display_data"
    },
    {
     "name": "stdout",
     "output_type": "stream",
     "text": [
      "Epoch 0\n"
     ]
    },
    {
     "data": {
      "application/vnd.jupyter.widget-view+json": {
       "model_id": "21bdc3a29b5e45aabae4cb751d100d34",
       "version_major": 2,
       "version_minor": 0
      },
      "text/plain": [
       "  0%|          | 0/500 [00:00<?, ?it/s]"
      ]
     },
     "metadata": {},
     "output_type": "display_data"
    },
    {
     "name": "stdout",
     "output_type": "stream",
     "text": [
      "Validation NLL -1422.16\n",
      "Epoch 1\n"
     ]
    },
    {
     "data": {
      "application/vnd.jupyter.widget-view+json": {
       "model_id": "88a5ca482fdf4057a8ce3e247f41ddcb",
       "version_major": 2,
       "version_minor": 0
      },
      "text/plain": [
       "  0%|          | 0/500 [00:00<?, ?it/s]"
      ]
     },
     "metadata": {},
     "output_type": "display_data"
    },
    {
     "name": "stdout",
     "output_type": "stream",
     "text": [
      "Validation NLL -1429.15\n",
      "Epoch 2\n"
     ]
    },
    {
     "data": {
      "application/vnd.jupyter.widget-view+json": {
       "model_id": "e8ac3a5ea23b40308620a29648f67d2b",
       "version_major": 2,
       "version_minor": 0
      },
      "text/plain": [
       "  0%|          | 0/500 [00:00<?, ?it/s]"
      ]
     },
     "metadata": {},
     "output_type": "display_data"
    },
    {
     "name": "stdout",
     "output_type": "stream",
     "text": [
      "Validation NLL -1435.37\n",
      "Epoch 3\n"
     ]
    },
    {
     "data": {
      "application/vnd.jupyter.widget-view+json": {
       "model_id": "89a90569397542ab8c1f773c53003d58",
       "version_major": 2,
       "version_minor": 0
      },
      "text/plain": [
       "  0%|          | 0/500 [00:00<?, ?it/s]"
      ]
     },
     "metadata": {},
     "output_type": "display_data"
    },
    {
     "name": "stdout",
     "output_type": "stream",
     "text": [
      "Validation NLL -1442.00\n",
      "Epoch 4\n"
     ]
    },
    {
     "data": {
      "application/vnd.jupyter.widget-view+json": {
       "model_id": "3d4798bf432444498a73baaea723b83a",
       "version_major": 2,
       "version_minor": 0
      },
      "text/plain": [
       "  0%|          | 0/500 [00:00<?, ?it/s]"
      ]
     },
     "metadata": {},
     "output_type": "display_data"
    },
    {
     "name": "stdout",
     "output_type": "stream",
     "text": [
      "Validation NLL -1447.88\n",
      "Epoch 5\n"
     ]
    },
    {
     "data": {
      "application/vnd.jupyter.widget-view+json": {
       "model_id": "e26350c430fd425c8a12c624d768b5c1",
       "version_major": 2,
       "version_minor": 0
      },
      "text/plain": [
       "  0%|          | 0/500 [00:00<?, ?it/s]"
      ]
     },
     "metadata": {},
     "output_type": "display_data"
    },
    {
     "name": "stdout",
     "output_type": "stream",
     "text": [
      "Validation NLL -1452.62\n",
      "Epoch 6\n"
     ]
    },
    {
     "data": {
      "application/vnd.jupyter.widget-view+json": {
       "model_id": "55e0bdd3161d43d99a41b98f5e772a2e",
       "version_major": 2,
       "version_minor": 0
      },
      "text/plain": [
       "  0%|          | 0/500 [00:00<?, ?it/s]"
      ]
     },
     "metadata": {},
     "output_type": "display_data"
    },
    {
     "name": "stdout",
     "output_type": "stream",
     "text": [
      "Validation NLL -1457.71\n",
      "Epoch 7\n"
     ]
    },
    {
     "data": {
      "application/vnd.jupyter.widget-view+json": {
       "model_id": "bdf913e770e74fc79dbdc07304de369a",
       "version_major": 2,
       "version_minor": 0
      },
      "text/plain": [
       "  0%|          | 0/500 [00:00<?, ?it/s]"
      ]
     },
     "metadata": {},
     "output_type": "display_data"
    },
    {
     "name": "stdout",
     "output_type": "stream",
     "text": [
      "Validation NLL -1460.72\n",
      "Epoch 8\n"
     ]
    },
    {
     "data": {
      "application/vnd.jupyter.widget-view+json": {
       "model_id": "6062ab93808e4c63addeaca55ff60a2b",
       "version_major": 2,
       "version_minor": 0
      },
      "text/plain": [
       "  0%|          | 0/500 [00:00<?, ?it/s]"
      ]
     },
     "metadata": {},
     "output_type": "display_data"
    },
    {
     "name": "stdout",
     "output_type": "stream",
     "text": [
      "Validation NLL -1462.38\n",
      "Epoch 9\n"
     ]
    },
    {
     "data": {
      "application/vnd.jupyter.widget-view+json": {
       "model_id": "058357ff6b92462b8bea94c01a312d4d",
       "version_major": 2,
       "version_minor": 0
      },
      "text/plain": [
       "  0%|          | 0/500 [00:00<?, ?it/s]"
      ]
     },
     "metadata": {},
     "output_type": "display_data"
    },
    {
     "name": "stdout",
     "output_type": "stream",
     "text": [
      "Validation NLL -1463.80\n",
      "Epoch 10\n"
     ]
    },
    {
     "data": {
      "application/vnd.jupyter.widget-view+json": {
       "model_id": "908736d8de084f9a9a8340e021a7b4b3",
       "version_major": 2,
       "version_minor": 0
      },
      "text/plain": [
       "  0%|          | 0/500 [00:00<?, ?it/s]"
      ]
     },
     "metadata": {},
     "output_type": "display_data"
    },
    {
     "name": "stdout",
     "output_type": "stream",
     "text": [
      "Validation NLL -1464.88\n",
      "Epoch 11\n"
     ]
    },
    {
     "data": {
      "application/vnd.jupyter.widget-view+json": {
       "model_id": "58f5dd5e33c34a25b70080ae2105e836",
       "version_major": 2,
       "version_minor": 0
      },
      "text/plain": [
       "  0%|          | 0/500 [00:00<?, ?it/s]"
      ]
     },
     "metadata": {},
     "output_type": "display_data"
    },
    {
     "name": "stdout",
     "output_type": "stream",
     "text": [
      "Validation NLL -1466.29\n",
      "Epoch 12\n"
     ]
    },
    {
     "data": {
      "application/vnd.jupyter.widget-view+json": {
       "model_id": "611f88a54b874bee80a072615eb1d4aa",
       "version_major": 2,
       "version_minor": 0
      },
      "text/plain": [
       "  0%|          | 0/500 [00:00<?, ?it/s]"
      ]
     },
     "metadata": {},
     "output_type": "display_data"
    },
    {
     "name": "stdout",
     "output_type": "stream",
     "text": [
      "Validation NLL -1466.25\n",
      "Epoch 13\n"
     ]
    },
    {
     "data": {
      "application/vnd.jupyter.widget-view+json": {
       "model_id": "2b3c63e6d06b46c7b8548df5c9cbd622",
       "version_major": 2,
       "version_minor": 0
      },
      "text/plain": [
       "  0%|          | 0/500 [00:00<?, ?it/s]"
      ]
     },
     "metadata": {},
     "output_type": "display_data"
    },
    {
     "name": "stdout",
     "output_type": "stream",
     "text": [
      "Validation NLL -1467.97\n",
      "Epoch 14\n"
     ]
    },
    {
     "data": {
      "application/vnd.jupyter.widget-view+json": {
       "model_id": "a926f0db540a4b3aa3a1a8b61b0bf9e8",
       "version_major": 2,
       "version_minor": 0
      },
      "text/plain": [
       "  0%|          | 0/500 [00:00<?, ?it/s]"
      ]
     },
     "metadata": {},
     "output_type": "display_data"
    },
    {
     "name": "stdout",
     "output_type": "stream",
     "text": [
      "Validation NLL -1468.51\n",
      "Epoch 15\n"
     ]
    },
    {
     "data": {
      "application/vnd.jupyter.widget-view+json": {
       "model_id": "f5a3f31717194f218fce053f4e8471bf",
       "version_major": 2,
       "version_minor": 0
      },
      "text/plain": [
       "  0%|          | 0/500 [00:00<?, ?it/s]"
      ]
     },
     "metadata": {},
     "output_type": "display_data"
    },
    {
     "name": "stdout",
     "output_type": "stream",
     "text": [
      "Validation NLL -1469.16\n",
      "Epoch 16\n"
     ]
    },
    {
     "data": {
      "application/vnd.jupyter.widget-view+json": {
       "model_id": "67274725c5f24ec48dc185aaefeb42ef",
       "version_major": 2,
       "version_minor": 0
      },
      "text/plain": [
       "  0%|          | 0/500 [00:00<?, ?it/s]"
      ]
     },
     "metadata": {},
     "output_type": "display_data"
    },
    {
     "name": "stdout",
     "output_type": "stream",
     "text": [
      "Validation NLL -1469.78\n",
      "Epoch 17\n"
     ]
    },
    {
     "data": {
      "application/vnd.jupyter.widget-view+json": {
       "model_id": "10cfc8f05f144f739943d50b0d8c548d",
       "version_major": 2,
       "version_minor": 0
      },
      "text/plain": [
       "  0%|          | 0/500 [00:00<?, ?it/s]"
      ]
     },
     "metadata": {},
     "output_type": "display_data"
    },
    {
     "name": "stdout",
     "output_type": "stream",
     "text": [
      "Validation NLL -1469.88\n",
      "Epoch 18\n"
     ]
    },
    {
     "data": {
      "application/vnd.jupyter.widget-view+json": {
       "model_id": "c76289ddc4754afab0690d2f4429aa73",
       "version_major": 2,
       "version_minor": 0
      },
      "text/plain": [
       "  0%|          | 0/500 [00:00<?, ?it/s]"
      ]
     },
     "metadata": {},
     "output_type": "display_data"
    },
    {
     "name": "stdout",
     "output_type": "stream",
     "text": [
      "Validation NLL -1470.47\n",
      "Epoch 19\n"
     ]
    },
    {
     "data": {
      "application/vnd.jupyter.widget-view+json": {
       "model_id": "48b8b3a1b12548399d3201bf75f27bef",
       "version_major": 2,
       "version_minor": 0
      },
      "text/plain": [
       "  0%|          | 0/500 [00:00<?, ?it/s]"
      ]
     },
     "metadata": {},
     "output_type": "display_data"
    },
    {
     "name": "stdout",
     "output_type": "stream",
     "text": [
      "Validation NLL -1470.75\n",
      "Epoch 20\n"
     ]
    },
    {
     "data": {
      "application/vnd.jupyter.widget-view+json": {
       "model_id": "b8cc231b2c4a4bd487336860c74e53cb",
       "version_major": 2,
       "version_minor": 0
      },
      "text/plain": [
       "  0%|          | 0/500 [00:00<?, ?it/s]"
      ]
     },
     "metadata": {},
     "output_type": "display_data"
    },
    {
     "name": "stdout",
     "output_type": "stream",
     "text": [
      "Validation NLL -1471.34\n",
      "Epoch 21\n"
     ]
    },
    {
     "data": {
      "application/vnd.jupyter.widget-view+json": {
       "model_id": "2de1dea09f4b4e8284b269f09b0463cb",
       "version_major": 2,
       "version_minor": 0
      },
      "text/plain": [
       "  0%|          | 0/500 [00:00<?, ?it/s]"
      ]
     },
     "metadata": {},
     "output_type": "display_data"
    },
    {
     "name": "stdout",
     "output_type": "stream",
     "text": [
      "Validation NLL -1470.85\n",
      "Epoch 22\n"
     ]
    },
    {
     "data": {
      "application/vnd.jupyter.widget-view+json": {
       "model_id": "ad6b568d0af6488996ef936f3848f76f",
       "version_major": 2,
       "version_minor": 0
      },
      "text/plain": [
       "  0%|          | 0/500 [00:00<?, ?it/s]"
      ]
     },
     "metadata": {},
     "output_type": "display_data"
    },
    {
     "name": "stdout",
     "output_type": "stream",
     "text": [
      "Validation NLL -1471.53\n",
      "Epoch 23\n"
     ]
    },
    {
     "data": {
      "application/vnd.jupyter.widget-view+json": {
       "model_id": "020e9d01e104413795e6ce9c2bd1284b",
       "version_major": 2,
       "version_minor": 0
      },
      "text/plain": [
       "  0%|          | 0/500 [00:00<?, ?it/s]"
      ]
     },
     "metadata": {},
     "output_type": "display_data"
    },
    {
     "name": "stdout",
     "output_type": "stream",
     "text": [
      "Validation NLL -1471.70\n",
      "Epoch 24\n"
     ]
    },
    {
     "data": {
      "application/vnd.jupyter.widget-view+json": {
       "model_id": "112491a9f66041efbaa2479c839e5acb",
       "version_major": 2,
       "version_minor": 0
      },
      "text/plain": [
       "  0%|          | 0/500 [00:00<?, ?it/s]"
      ]
     },
     "metadata": {},
     "output_type": "display_data"
    },
    {
     "name": "stdout",
     "output_type": "stream",
     "text": [
      "Validation NLL -1471.79\n",
      "Epoch 25\n"
     ]
    },
    {
     "data": {
      "application/vnd.jupyter.widget-view+json": {
       "model_id": "61a8af34710448c6adddbfd6352d187d",
       "version_major": 2,
       "version_minor": 0
      },
      "text/plain": [
       "  0%|          | 0/500 [00:00<?, ?it/s]"
      ]
     },
     "metadata": {},
     "output_type": "display_data"
    },
    {
     "name": "stdout",
     "output_type": "stream",
     "text": [
      "Validation NLL -1472.37\n",
      "Epoch 26\n"
     ]
    },
    {
     "data": {
      "application/vnd.jupyter.widget-view+json": {
       "model_id": "9e80cc6efa8144f6b1d3c49a127e221b",
       "version_major": 2,
       "version_minor": 0
      },
      "text/plain": [
       "  0%|          | 0/500 [00:00<?, ?it/s]"
      ]
     },
     "metadata": {},
     "output_type": "display_data"
    },
    {
     "name": "stdout",
     "output_type": "stream",
     "text": [
      "Validation NLL -1472.07\n",
      "Epoch 27\n"
     ]
    },
    {
     "data": {
      "application/vnd.jupyter.widget-view+json": {
       "model_id": "7e39e030668842369f42c836c359851e",
       "version_major": 2,
       "version_minor": 0
      },
      "text/plain": [
       "  0%|          | 0/500 [00:00<?, ?it/s]"
      ]
     },
     "metadata": {},
     "output_type": "display_data"
    },
    {
     "name": "stdout",
     "output_type": "stream",
     "text": [
      "Validation NLL -1472.21\n",
      "Epoch 28\n"
     ]
    },
    {
     "data": {
      "application/vnd.jupyter.widget-view+json": {
       "model_id": "39d135a52cc34e5a8822a22df34ab68f",
       "version_major": 2,
       "version_minor": 0
      },
      "text/plain": [
       "  0%|          | 0/500 [00:00<?, ?it/s]"
      ]
     },
     "metadata": {},
     "output_type": "display_data"
    },
    {
     "name": "stdout",
     "output_type": "stream",
     "text": [
      "Validation NLL -1472.55\n",
      "Epoch 29\n"
     ]
    },
    {
     "data": {
      "application/vnd.jupyter.widget-view+json": {
       "model_id": "a707966c207744e79b50450307df3850",
       "version_major": 2,
       "version_minor": 0
      },
      "text/plain": [
       "  0%|          | 0/500 [00:00<?, ?it/s]"
      ]
     },
     "metadata": {},
     "output_type": "display_data"
    },
    {
     "name": "stdout",
     "output_type": "stream",
     "text": [
      "Validation NLL -1472.91\n",
      "training took 5020.307685852051 seconds.\n"
     ]
    }
   ],
   "source": [
    "from tqdm.auto import tqdm\n",
    "import time\n",
    "tic=time.time()\n",
    "n_epochs = 30\n",
    "\n",
    "for epoch in tqdm(range(n_epochs)):\n",
    "    print(f\"Epoch {epoch}\")\n",
    "    \n",
    "    trainloader = DataLoader(traindata, batch_size=256, shuffle=True)\n",
    "    valloader = DataLoader(valdata, batch_size=1024, shuffle=True)\n",
    "    \n",
    "    for batch in tqdm(trainloader):\n",
    "        optim.zero_grad()\n",
    "\n",
    "        # nll\n",
    "        nll = generator.energy(batch.to(**ctx)).mean()\n",
    "        nll.backward()\n",
    "\n",
    "        print(\"NLL\", f\"{nll.item():.2f}\", end=\"\\r\")\n",
    "        \n",
    "        optim.step()\n",
    "    \n",
    "    val_nll = [\n",
    "        generator.energy(batch.to(**ctx)).detach().cpu() \n",
    "        for batch in valloader\n",
    "    ]\n",
    "    print(f\"Validation NLL {torch.cat(val_nll).mean().item():.2f}\")\n",
    "toc=time.time()\n",
    "print(F'training took {toc-tic} seconds.')"
   ]
  },
  {
   "cell_type": "code",
   "execution_count": 47,
   "id": "a26de6c9",
   "metadata": {},
   "outputs": [],
   "source": [
    "#torch.save(generator.state_dict(), \"nll-only.pic\")"
   ]
  },
  {
   "cell_type": "code",
   "execution_count": 43,
   "id": "dbcad98d",
   "metadata": {},
   "outputs": [
    {
     "data": {
      "text/plain": [
       "<All keys matched successfully>"
      ]
     },
     "execution_count": 43,
     "metadata": {},
     "output_type": "execute_result"
    }
   ],
   "source": [
    "generator.load_state_dict(torch.load(\"nll-only.pic\"))"
   ]
  },
  {
   "cell_type": "markdown",
   "id": "b8440e17",
   "metadata": {},
   "source": [
    "## Visualize Results"
   ]
  },
  {
   "cell_type": "code",
   "execution_count": 44,
   "id": "84701c15-94f4-4115-a902-6bdd729942c9",
   "metadata": {},
   "outputs": [
    {
     "name": "stderr",
     "output_type": "stream",
     "text": [
      "WARNING:root:Warning: importing 'simtk.openmm' is deprecated.  Import 'openmm' instead.\n",
      "WARNING:root:Warning: importing 'simtk.openmm' is deprecated.  Import 'openmm' instead.\n",
      "WARNING:root:Warning: importing 'simtk.openmm' is deprecated.  Import 'openmm' instead.\n",
      "WARNING:root:Warning: importing 'simtk.openmm' is deprecated.  Import 'openmm' instead.\n",
      "WARNING:root:Warning: importing 'simtk.openmm' is deprecated.  Import 'openmm' instead.\n",
      "WARNING:root:Warning: importing 'simtk.openmm' is deprecated.  Import 'openmm' instead.\n"
     ]
    }
   ],
   "source": [
    "samples = np.concatenate([\n",
    "    as_numpy(generator.sample(100))\n",
    "    for _ in range(128)\n",
    "])\n",
    "samples_energies = target_real.energy(torch.Tensor(samples))\n",
    "sort = torch.argsort(samples_energies,0)\n",
    "energies_sorted = samples_energies[sort].squeeze()\n",
    "samples_sorted = samples[sort]"
   ]
  },
  {
   "cell_type": "code",
   "execution_count": 46,
   "id": "bd786777-32b2-4c31-9b5e-a5bb0e0a7705",
   "metadata": {},
   "outputs": [
    {
     "name": "stdout",
     "output_type": "stream",
     "text": [
      "mean extension: 1.39\n"
     ]
    },
    {
     "name": "stderr",
     "output_type": "stream",
     "text": [
      "WARNING:root:Warning: importing 'simtk.openmm' is deprecated.  Import 'openmm' instead.\n",
      "WARNING:root:Warning: importing 'simtk.openmm' is deprecated.  Import 'openmm' instead.\n",
      "WARNING:root:Warning: importing 'simtk.openmm' is deprecated.  Import 'openmm' instead.\n",
      "WARNING:root:Warning: importing 'simtk.openmm' is deprecated.  Import 'openmm' instead.\n",
      "WARNING:root:Warning: importing 'simtk.openmm' is deprecated.  Import 'openmm' instead.\n",
      "WARNING:root:Warning: importing 'simtk.openmm' is deprecated.  Import 'openmm' instead.\n"
     ]
    },
    {
     "data": {
      "application/vnd.jupyter.widget-view+json": {
       "model_id": "f0b4efe046334433be4a2357cf2d85b9",
       "version_major": 2,
       "version_minor": 0
      },
      "text/plain": [
       "BoundedFloatText(value=-5.92, description='Energy:', disabled=True, max=1e+50, min=-1e+20)"
      ]
     },
     "metadata": {},
     "output_type": "display_data"
    },
    {
     "data": {
      "application/vnd.jupyter.widget-view+json": {
       "model_id": "435951b4805b47b5a321a6d093e4e348",
       "version_major": 2,
       "version_minor": 0
      },
      "text/plain": [
       "NGLWidget(max_frame=99)"
      ]
     },
     "metadata": {},
     "output_type": "display_data"
    },
    {
     "data": {
      "image/png": "[encoded data removed]",
      "text/plain": [
       "<Figure size 648x216 with 4 Axes>"
      ]
     },
     "metadata": {
      "needs_background": "light"
     },
     "output_type": "display_data"
    }
   ],
   "source": [
    "evaluate_generator(generator, samples)"
   ]
  },
  {
   "cell_type": "code",
   "execution_count": 217,
   "id": "f848e544",
   "metadata": {},
   "outputs": [],
   "source": [
    "widget.clear()"
   ]
  },
  {
   "cell_type": "code",
   "execution_count": 218,
   "id": "492a8f9b-d8a0-4a68-98a6-be64536df042",
   "metadata": {},
   "outputs": [],
   "source": [
    "selection = system._mdtraj_topology.select(\"resid == 8\")"
   ]
  },
  {
   "cell_type": "code",
   "execution_count": 219,
   "id": "636d2dfe",
   "metadata": {},
   "outputs": [],
   "source": [
    "widget.add_representation(\"licorice\", selection=selection)"
   ]
  },
  {
   "cell_type": "code",
   "execution_count": null,
   "id": "f38c0f14-e1ce-484c-b9d5-8614fcaef770",
   "metadata": {},
   "outputs": [],
   "source": []
  },
  {
   "cell_type": "code",
   "execution_count": 47,
   "id": "e6e63557-a1fb-4a9c-9356-2aa3fd1840a8",
   "metadata": {},
   "outputs": [
    {
     "name": "stdout",
     "output_type": "stream",
     "text": [
      "Validation NLL -1468.51\n",
      "Validation U (1st quantile) 1.27e+03\n",
      "Validation U (median) 8.04e+04\n",
      "Validation U (3rd quantile) 4.42e+08\n",
      "Validation H 1483.36\n"
     ]
    }
   ],
   "source": [
    "generator_metrics(valdata = valdata[:10])"
   ]
  },
  {
   "cell_type": "markdown",
   "id": "ad89b94e",
   "metadata": {},
   "source": [
    "train on NLL and KLL"
   ]
  },
  {
   "cell_type": "code",
   "execution_count": null,
   "id": "f7d83e8e-f72c-4595-b1fe-df903e4ff2f7",
   "metadata": {},
   "outputs": [],
   "source": [
    "#generator._target = bg.LinLogCutEnergy(dataset.get_energy_model(n_workers=6), high_energy=100., max_energy=1000.)"
   ]
  },
  {
   "cell_type": "code",
   "execution_count": 25,
   "id": "6e742d76",
   "metadata": {},
   "outputs": [],
   "source": [
    "#generator._target = bg.LinLogCutEnergy(dataset.get_energy_model(n_workers=6), high_energy=1000., max_energy=10000.)"
   ]
  },
  {
   "cell_type": "code",
   "execution_count": 34,
   "id": "524ad6fe",
   "metadata": {
    "scrolled": true
   },
   "outputs": [
    {
     "name": "stdout",
     "output_type": "stream",
     "text": [
      "n_epochs:1, w_energy: 0.8\n"
     ]
    },
    {
     "data": {
      "application/vnd.jupyter.widget-view+json": {
       "model_id": "3cafde62319a401e911e9f9acb07c0f5",
       "version_major": 2,
       "version_minor": 0
      },
      "text/plain": [
       "  0%|          | 0/1 [00:00<?, ?it/s]"
      ]
     },
     "metadata": {},
     "output_type": "display_data"
    },
    {
     "name": "stdout",
     "output_type": "stream",
     "text": [
      "lr: 0.0001\n",
      "Epoch 0\n"
     ]
    },
    {
     "data": {
      "application/vnd.jupyter.widget-view+json": {
       "model_id": "c4274cc9a3414de7baddb1c062369ce4",
       "version_major": 2,
       "version_minor": 0
      },
      "text/plain": [
       "  0%|          | 0/500 [00:00<?, ?it/s]"
      ]
     },
     "metadata": {},
     "output_type": "display_data"
    },
    {
     "name": "stdout",
     "output_type": "stream",
     "text": [
      "NLL -1487.40 KLL 1594.55\r"
     ]
    },
    {
     "name": "stderr",
     "output_type": "stream",
     "text": [
      "WARNING:root:Warning: importing 'simtk.openmm' is deprecated.  Import 'openmm' instead.\n",
      "WARNING:root:Warning: importing 'simtk.openmm' is deprecated.  Import 'openmm' instead.\n",
      "WARNING:root:Warning: importing 'simtk.openmm' is deprecated.  Import 'openmm' instead.\n",
      "WARNING:root:Warning: importing 'simtk.openmm' is deprecated.  Import 'openmm' instead.\n",
      "WARNING:root:Warning: importing 'simtk.openmm' is deprecated.  Import 'openmm' instead.\n",
      "WARNING:root:Warning: importing 'simtk.openmm' is deprecated.  Import 'openmm' instead.\n"
     ]
    },
    {
     "name": "stdout",
     "output_type": "stream",
     "text": [
      "NLL -1391.82 KLL 1242.51\r"
     ]
    },
    {
     "name": "stderr",
     "output_type": "stream",
     "text": [
      "/home/marcel/anaconda3/envs/bgkraemer_clone/lib/python3.9/site-packages/bgflow-0.1-py3.9.egg/bgflow/nn/flow/crd_transform/ic_helper.py:283: UserWarning: singular division in torsion computation\n"
     ]
    },
    {
     "name": "stdout",
     "output_type": "stream",
     "text": [
      "training took 1266.1174840927124 seconds.\n"
     ]
    }
   ],
   "source": [
    "\n",
    "\n",
    "optim = torch.optim.Adam(generator.parameters(), lr=1e-4)\n",
    "scheduler = ExponentialLR(optim, gamma=0.7)\n",
    "KLL = []\n",
    "NLL = []\n",
    "#U = []\n",
    "#U_limited = []\n",
    "#H = []\n",
    "from tqdm.auto import tqdm\n",
    "import time\n",
    "tic=time.time()\n",
    "#n_epochs = 30\n",
    "w_energy=0.1\n",
    "w_likelihood = 1 - w_energy\n",
    "clip_forces = 20.0\n",
    "\n",
    "params = [(1, 1e-12),(1,1e-6),(1, 1e-5),(1,1e-4),(1, 1e-3),(2,5e-3),(2,1e-2),(20,5e-2)]\n",
    "params = [(1,1e-6),(1, 1e-5),(1,1e-4),(1, 1e-3),(2,5e-3),(2,1e-2),(20,5e-2)]\n",
    "epochs = 0\n",
    "#params = [(3, 0)]\n",
    "params = [(1,1e-2),(1, 2e-2),(1,4e-2),(1, 1e-1),(1,2e-1),(1,4e-1),(1,8e-1)]\n",
    "params = [(1,8e-1)]\n",
    "kll = torch.Tensor([0])\n",
    "nll = torch.Tensor([0])\n",
    "for n_epochs, w_energy in params:\n",
    "    w_likelihood = 1 - w_energy\n",
    "    print(f'n_epochs:{n_epochs}, w_energy: {w_energy}')\n",
    "\n",
    "    for epoch in tqdm(range(n_epochs)):\n",
    "        lr = optim.param_groups[0][\"lr\"]\n",
    "        print(f\"lr: {lr}\")\n",
    "\n",
    "        print(f\"Epoch {epochs}\")\n",
    "        epochs += 1\n",
    "        trainloader = DataLoader(traindata, batch_size=256, shuffle=True)\n",
    "        valloader = DataLoader(valdata, batch_size=1024, shuffle=True)\n",
    "\n",
    "        for batch in tqdm(trainloader):\n",
    "            #ipdb.set_trace()\n",
    "            optim.zero_grad()\n",
    "            \n",
    "                        # aggregate weighted gradient\n",
    "            #loss = nll\n",
    "            #loss.backward()\n",
    "            if w_energy > 0:\n",
    "                kll = generator.kldiv(256).mean()\n",
    "                l = w_energy / (w_likelihood + w_energy)\n",
    "                (l * kll).backward(retain_graph = True)\n",
    "            # constrain forces\n",
    "                \n",
    "                if clip_forces is not None:\n",
    "                    torch.nn.utils.clip_grad_value_(generator.parameters(), clip_forces)\n",
    "\n",
    "            \n",
    "            \n",
    "            \n",
    "            # nll\n",
    "            \n",
    "            if w_likelihood > 0:\n",
    "                nll = generator.energy(batch.to(**ctx)).mean()\n",
    "                l = w_likelihood / (w_likelihood + w_energy)\n",
    "                (l*nll).backward()\n",
    "                #torch.autograd.grad(outputs=(l * nll),inputs=generator.parameters(), retain_graph = True)\n",
    "            #nll.backward(retain_graph=True)\n",
    "\n",
    "            #print(\"NLL\", f\"{nll.item():.2f}\")\n",
    "\n",
    "            # kll\n",
    " \n",
    "            print(\"NLL\", f\"{nll.item():.2f}\",\"KLL\", f\"{kll.item():.2f}\", end=\"\\r\") \n",
    "            KLL.append(kll.item())# clip only kll\n",
    "            NLL.append(nll.item())\n",
    "            ## investigate U,H\n",
    "          # with torch.no_grad():                \n",
    "          #     u_limited=unnormalized_kl_div_U(generator._prior, generator._flow, generator._target, n_samples = 256)\n",
    "          #     u=unnormalized_kl_div_U(generator._prior, generator._flow, target = target_real, n_samples = 256)\n",
    "          #     h=unnormalized_kl_div_H(generator._prior, generator._flow, generator._target, n_samples = 256)\n",
    "\n",
    "          # \n",
    "          # U_limited.append(u_limited.mean().item())\n",
    "          # U.append(u.mean().item())\n",
    "          # H.append(h.mean().item())\n",
    "\n",
    "            optim.step()\n",
    "        scheduler.step()\n",
    "       # val_nll = [\n",
    "       #     generator.energy(batch.to(**ctx)).detach().cpu() \n",
    "       #     for batch in valloader\n",
    "       # ]\n",
    "       # print(f\"Validation NLL {torch.cat(val_nll).mean().item():.2f}\")\n",
    "toc=time.time()\n",
    "print(F'training took {toc-tic} seconds.')"
   ]
  },
  {
   "cell_type": "code",
   "execution_count": 99,
   "id": "58faa8d9",
   "metadata": {},
   "outputs": [],
   "source": [
    "torch.save(generator.state_dict(), \"nll+kll_science.pic\")"
   ]
  },
  {
   "cell_type": "code",
   "execution_count": 141,
   "id": "0112764a",
   "metadata": {},
   "outputs": [
    {
     "data": {
      "text/plain": [
       "<All keys matched successfully>"
      ]
     },
     "execution_count": 141,
     "metadata": {},
     "output_type": "execute_result"
    }
   ],
   "source": [
    "generator.load_state_dict(torch.load(\"nll+kll_science.pic\"))"
   ]
  },
  {
   "cell_type": "code",
   "execution_count": 36,
   "id": "9d38bebb-f7c3-4891-855b-cff6d3b05efc",
   "metadata": {
    "collapsed": true,
    "jupyter": {
     "outputs_hidden": true
    },
    "tags": []
   },
   "outputs": [
    {
     "data": {
      "image/png": "[encoded data removed]",
      "text/plain": [
       "<Figure size 432x288 with 3 Axes>"
      ]
     },
     "metadata": {
      "needs_background": "light"
     },
     "output_type": "display_data"
    }
   ],
   "source": [
    "\n",
    "fig, axes = plt.subplots(3)\n",
    "axes[0].plot(U)\n",
    "\n",
    "axes[0].set(ylabel='U', xlabel='iteration')\n",
    "axes[0].grid()\n",
    "\n",
    "axes[1].plot(U_limited)\n",
    "\n",
    "axes[1].set(ylabel='U_limited', xlabel='iteration')\n",
    "axes[1].grid()\n",
    "\n",
    "axes[2].plot(H)\n",
    "\n",
    "axes[2].set(ylabel='H', xlabel='iteration')\n",
    "axes[2].grid()\n",
    "\n",
    "\n",
    "fig.savefig(\"U vs. H.png\")\n",
    "plt.show()"
   ]
  },
  {
   "cell_type": "code",
   "execution_count": 93,
   "id": "e56bb16e",
   "metadata": {
    "collapsed": true,
    "jupyter": {
     "outputs_hidden": true
    },
    "tags": []
   },
   "outputs": [
    {
     "data": {
      "image/png": "[encoded data removed]",
      "text/plain": [
       "<Figure size 432x288 with 2 Axes>"
      ]
     },
     "metadata": {
      "needs_background": "light"
     },
     "output_type": "display_data"
    }
   ],
   "source": [
    "\n",
    "fig, axes = plt.subplots(2)\n",
    "axes[0].plot(NLL)\n",
    "\n",
    "axes[0].set(ylabel='NLL', xlabel='iteration')\n",
    "axes[0].grid()\n",
    "\n",
    "axes[1].plot(KLL)\n",
    "\n",
    "axes[1].set(ylabel='KLL', xlabel='iteration')\n",
    "axes[1].grid()\n",
    "\n",
    "\n",
    "fig.savefig(\"KLL+NLL.png\")\n",
    "plt.show()"
   ]
  },
  {
   "cell_type": "code",
   "execution_count": 39,
   "id": "afde2d5f-1e97-4371-b88a-28371ae9f095",
   "metadata": {},
   "outputs": [],
   "source": [
    "optim = torch.optim.Adam(generator.parameters(), lr=5e-6)"
   ]
  },
  {
   "cell_type": "code",
   "execution_count": 148,
   "id": "fe2bcaa1-869e-4df1-a7be-1a20e3dcf273",
   "metadata": {},
   "outputs": [
    {
     "name": "stdout",
     "output_type": "stream",
     "text": [
      "n_epochs:3, w_energy: 1\n"
     ]
    },
    {
     "data": {
      "application/vnd.jupyter.widget-view+json": {
       "model_id": "0e6d3381b4254ce7a402921ffe93f859",
       "version_major": 2,
       "version_minor": 0
      },
      "text/plain": [
       "  0%|          | 0/3 [00:00<?, ?it/s]"
      ]
     },
     "metadata": {},
     "output_type": "display_data"
    },
    {
     "name": "stdout",
     "output_type": "stream",
     "text": [
      "Epoch 1\n",
      "lr: 0.001\n"
     ]
    },
    {
     "data": {
      "application/vnd.jupyter.widget-view+json": {
       "model_id": "ff6ab31c1f794dc9a8b4ab59098ccf77",
       "version_major": 2,
       "version_minor": 0
      },
      "text/plain": [
       "  0%|          | 0/500 [00:00<?, ?it/s]"
      ]
     },
     "metadata": {},
     "output_type": "display_data"
    },
    {
     "name": "stdout",
     "output_type": "stream",
     "text": [
      "NLL -766.60 KLL 1073.905\r"
     ]
    },
    {
     "ename": "AssertionError",
     "evalue": "",
     "output_type": "error",
     "traceback": [
      "\u001b[0;31m---------------------------------------------------------------------------\u001b[0m",
      "\u001b[0;31mAssertionError\u001b[0m                            Traceback (most recent call last)",
      "\u001b[0;32m/tmp/ipykernel_679259/2244399960.py\u001b[0m in \u001b[0;36m<module>\u001b[0;34m\u001b[0m\n\u001b[1;32m     48\u001b[0m \u001b[0;34m\u001b[0m\u001b[0m\n\u001b[1;32m     49\u001b[0m             \u001b[0;31m# kll\u001b[0m\u001b[0;34m\u001b[0m\u001b[0;34m\u001b[0m\u001b[0m\n\u001b[0;32m---> 50\u001b[0;31m             \u001b[0mkll\u001b[0m \u001b[0;34m=\u001b[0m \u001b[0mgenerator\u001b[0m\u001b[0;34m.\u001b[0m\u001b[0mkldiv\u001b[0m\u001b[0;34m(\u001b[0m\u001b[0;36m256\u001b[0m\u001b[0;34m)\u001b[0m\u001b[0;34m.\u001b[0m\u001b[0mmean\u001b[0m\u001b[0;34m(\u001b[0m\u001b[0;34m)\u001b[0m\u001b[0;34m\u001b[0m\u001b[0;34m\u001b[0m\u001b[0m\n\u001b[0m\u001b[1;32m     51\u001b[0m             \u001b[0mprint\u001b[0m\u001b[0;34m(\u001b[0m\u001b[0;34m\"NLL\"\u001b[0m\u001b[0;34m,\u001b[0m \u001b[0;34mf\"{nll.item():.2f}\"\u001b[0m\u001b[0;34m,\u001b[0m\u001b[0;34m\"KLL\"\u001b[0m\u001b[0;34m,\u001b[0m \u001b[0;34mf\"{kll.item():.2f}\"\u001b[0m\u001b[0;34m,\u001b[0m \u001b[0mend\u001b[0m\u001b[0;34m=\u001b[0m\u001b[0;34m\"\\r\"\u001b[0m\u001b[0;34m)\u001b[0m\u001b[0;34m\u001b[0m\u001b[0;34m\u001b[0m\u001b[0m\n\u001b[1;32m     52\u001b[0m             \u001b[0mKLL\u001b[0m\u001b[0;34m.\u001b[0m\u001b[0mappend\u001b[0m\u001b[0;34m(\u001b[0m\u001b[0mkll\u001b[0m\u001b[0;34m.\u001b[0m\u001b[0mitem\u001b[0m\u001b[0;34m(\u001b[0m\u001b[0;34m)\u001b[0m\u001b[0;34m)\u001b[0m\u001b[0;34m\u001b[0m\u001b[0;34m\u001b[0m\u001b[0m\n",
      "\u001b[0;32m~/anaconda3/envs/bgkraemer_clone/lib/python3.9/site-packages/bgflow-0.1-py3.9.egg/bgflow/bg.py\u001b[0m in \u001b[0;36mkldiv\u001b[0;34m(self, n_samples, temperature)\u001b[0m\n\u001b[1;32m    125\u001b[0m \u001b[0;34m\u001b[0m\u001b[0m\n\u001b[1;32m    126\u001b[0m     \u001b[0;32mdef\u001b[0m \u001b[0mkldiv\u001b[0m\u001b[0;34m(\u001b[0m\u001b[0mself\u001b[0m\u001b[0;34m,\u001b[0m \u001b[0mn_samples\u001b[0m\u001b[0;34m,\u001b[0m \u001b[0mtemperature\u001b[0m\u001b[0;34m=\u001b[0m\u001b[0;36m1.0\u001b[0m\u001b[0;34m)\u001b[0m\u001b[0;34m:\u001b[0m\u001b[0;34m\u001b[0m\u001b[0;34m\u001b[0m\u001b[0m\n\u001b[0;32m--> 127\u001b[0;31m         return unnormalized_kl_div(\n\u001b[0m\u001b[1;32m    128\u001b[0m             \u001b[0mself\u001b[0m\u001b[0;34m.\u001b[0m\u001b[0m_prior\u001b[0m\u001b[0;34m,\u001b[0m \u001b[0mself\u001b[0m\u001b[0;34m.\u001b[0m\u001b[0m_flow\u001b[0m\u001b[0;34m,\u001b[0m \u001b[0mself\u001b[0m\u001b[0;34m.\u001b[0m\u001b[0m_target\u001b[0m\u001b[0;34m,\u001b[0m \u001b[0mn_samples\u001b[0m\u001b[0;34m,\u001b[0m \u001b[0mtemperature\u001b[0m\u001b[0;34m=\u001b[0m\u001b[0mtemperature\u001b[0m\u001b[0;34m\u001b[0m\u001b[0;34m\u001b[0m\u001b[0m\n\u001b[1;32m    129\u001b[0m         )\n",
      "\u001b[0;32m~/anaconda3/envs/bgkraemer_clone/lib/python3.9/site-packages/bgflow-0.1-py3.9.egg/bgflow/bg.py\u001b[0m in \u001b[0;36munnormalized_kl_div\u001b[0;34m(prior, flow, target, n_samples, temperature)\u001b[0m\n\u001b[1;32m     15\u001b[0m     \u001b[0;32mif\u001b[0m \u001b[0misinstance\u001b[0m\u001b[0;34m(\u001b[0m\u001b[0mz\u001b[0m\u001b[0;34m,\u001b[0m \u001b[0mtorch\u001b[0m\u001b[0;34m.\u001b[0m\u001b[0mTensor\u001b[0m\u001b[0;34m)\u001b[0m\u001b[0;34m:\u001b[0m\u001b[0;34m\u001b[0m\u001b[0;34m\u001b[0m\u001b[0m\n\u001b[1;32m     16\u001b[0m         \u001b[0mz\u001b[0m \u001b[0;34m=\u001b[0m \u001b[0;34m(\u001b[0m\u001b[0mz\u001b[0m\u001b[0;34m,\u001b[0m\u001b[0;34m)\u001b[0m\u001b[0;34m\u001b[0m\u001b[0;34m\u001b[0m\u001b[0m\n\u001b[0;32m---> 17\u001b[0;31m     \u001b[0;34m*\u001b[0m\u001b[0mx\u001b[0m\u001b[0;34m,\u001b[0m \u001b[0mdlogp\u001b[0m \u001b[0;34m=\u001b[0m \u001b[0mflow\u001b[0m\u001b[0;34m(\u001b[0m\u001b[0;34m*\u001b[0m\u001b[0mz\u001b[0m\u001b[0;34m,\u001b[0m \u001b[0mtemperature\u001b[0m\u001b[0;34m=\u001b[0m\u001b[0mtemperature\u001b[0m\u001b[0;34m)\u001b[0m\u001b[0;34m\u001b[0m\u001b[0;34m\u001b[0m\u001b[0m\n\u001b[0m\u001b[1;32m     18\u001b[0m     \u001b[0;32mreturn\u001b[0m \u001b[0mtarget\u001b[0m\u001b[0;34m.\u001b[0m\u001b[0menergy\u001b[0m\u001b[0;34m(\u001b[0m\u001b[0;34m*\u001b[0m\u001b[0mx\u001b[0m\u001b[0;34m,\u001b[0m \u001b[0mtemperature\u001b[0m\u001b[0;34m=\u001b[0m\u001b[0mtemperature\u001b[0m\u001b[0;34m)\u001b[0m \u001b[0;34m-\u001b[0m \u001b[0mdlogp\u001b[0m\u001b[0;34m\u001b[0m\u001b[0;34m\u001b[0m\u001b[0m\n\u001b[1;32m     19\u001b[0m \u001b[0;34m\u001b[0m\u001b[0m\n",
      "\u001b[0;32m~/anaconda3/envs/bgkraemer_clone/lib/python3.9/site-packages/torch/nn/modules/module.py\u001b[0m in \u001b[0;36m_call_impl\u001b[0;34m(self, *input, **kwargs)\u001b[0m\n\u001b[1;32m   1100\u001b[0m         if not (self._backward_hooks or self._forward_hooks or self._forward_pre_hooks or _global_backward_hooks\n\u001b[1;32m   1101\u001b[0m                 or _global_forward_hooks or _global_forward_pre_hooks):\n\u001b[0;32m-> 1102\u001b[0;31m             \u001b[0;32mreturn\u001b[0m \u001b[0mforward_call\u001b[0m\u001b[0;34m(\u001b[0m\u001b[0;34m*\u001b[0m\u001b[0minput\u001b[0m\u001b[0;34m,\u001b[0m \u001b[0;34m**\u001b[0m\u001b[0mkwargs\u001b[0m\u001b[0;34m)\u001b[0m\u001b[0;34m\u001b[0m\u001b[0;34m\u001b[0m\u001b[0m\n\u001b[0m\u001b[1;32m   1103\u001b[0m         \u001b[0;31m# Do not call functions when jit is used\u001b[0m\u001b[0;34m\u001b[0m\u001b[0;34m\u001b[0m\u001b[0m\n\u001b[1;32m   1104\u001b[0m         \u001b[0mfull_backward_hooks\u001b[0m\u001b[0;34m,\u001b[0m \u001b[0mnon_full_backward_hooks\u001b[0m \u001b[0;34m=\u001b[0m \u001b[0;34m[\u001b[0m\u001b[0;34m]\u001b[0m\u001b[0;34m,\u001b[0m \u001b[0;34m[\u001b[0m\u001b[0;34m]\u001b[0m\u001b[0;34m\u001b[0m\u001b[0;34m\u001b[0m\u001b[0m\n",
      "\u001b[0;32m~/anaconda3/envs/bgkraemer_clone/lib/python3.9/site-packages/bgflow-0.1-py3.9.egg/bgflow/nn/flow/sequential.py\u001b[0m in \u001b[0;36mforward\u001b[0;34m(self, inverse, *xs, **kwargs)\u001b[0m\n\u001b[1;32m     54\u001b[0m         \u001b[0;32mfor\u001b[0m \u001b[0mi\u001b[0m\u001b[0;34m,\u001b[0m \u001b[0mblock\u001b[0m \u001b[0;32min\u001b[0m \u001b[0menumerate\u001b[0m\u001b[0;34m(\u001b[0m\u001b[0mblocks\u001b[0m\u001b[0;34m)\u001b[0m\u001b[0;34m:\u001b[0m\u001b[0;34m\u001b[0m\u001b[0;34m\u001b[0m\u001b[0m\n\u001b[1;32m     55\u001b[0m             \u001b[0mlogger\u001b[0m\u001b[0;34m.\u001b[0m\u001b[0mdebug\u001b[0m\u001b[0;34m(\u001b[0m\u001b[0;34mf\"Input shapes {[x.shape for x in xs]}\"\u001b[0m\u001b[0;34m)\u001b[0m\u001b[0;34m\u001b[0m\u001b[0;34m\u001b[0m\u001b[0m\n\u001b[0;32m---> 56\u001b[0;31m             \u001b[0;34m*\u001b[0m\u001b[0mxs\u001b[0m\u001b[0;34m,\u001b[0m \u001b[0mddlogp\u001b[0m \u001b[0;34m=\u001b[0m \u001b[0mblock\u001b[0m\u001b[0;34m(\u001b[0m\u001b[0;34m*\u001b[0m\u001b[0mxs\u001b[0m\u001b[0;34m,\u001b[0m \u001b[0minverse\u001b[0m\u001b[0;34m=\u001b[0m\u001b[0minverse\u001b[0m\u001b[0;34m,\u001b[0m \u001b[0;34m**\u001b[0m\u001b[0mkwargs\u001b[0m\u001b[0;34m)\u001b[0m\u001b[0;34m\u001b[0m\u001b[0;34m\u001b[0m\u001b[0m\n\u001b[0m\u001b[1;32m     57\u001b[0m             \u001b[0mlogger\u001b[0m\u001b[0;34m.\u001b[0m\u001b[0mdebug\u001b[0m\u001b[0;34m(\u001b[0m\u001b[0;34mf\"Flow block {i} (inverse={inverse}):  {block}\"\u001b[0m\u001b[0;34m)\u001b[0m\u001b[0;34m\u001b[0m\u001b[0;34m\u001b[0m\u001b[0m\n\u001b[1;32m     58\u001b[0m             \u001b[0mlogger\u001b[0m\u001b[0;34m.\u001b[0m\u001b[0mdebug\u001b[0m\u001b[0;34m(\u001b[0m\u001b[0;34mf\"Output shapes {[x.shape for x in xs]}\"\u001b[0m\u001b[0;34m)\u001b[0m\u001b[0;34m\u001b[0m\u001b[0;34m\u001b[0m\u001b[0m\n",
      "\u001b[0;32m~/anaconda3/envs/bgkraemer_clone/lib/python3.9/site-packages/torch/nn/modules/module.py\u001b[0m in \u001b[0;36m_call_impl\u001b[0;34m(self, *input, **kwargs)\u001b[0m\n\u001b[1;32m   1100\u001b[0m         if not (self._backward_hooks or self._forward_hooks or self._forward_pre_hooks or _global_backward_hooks\n\u001b[1;32m   1101\u001b[0m                 or _global_forward_hooks or _global_forward_pre_hooks):\n\u001b[0;32m-> 1102\u001b[0;31m             \u001b[0;32mreturn\u001b[0m \u001b[0mforward_call\u001b[0m\u001b[0;34m(\u001b[0m\u001b[0;34m*\u001b[0m\u001b[0minput\u001b[0m\u001b[0;34m,\u001b[0m \u001b[0;34m**\u001b[0m\u001b[0mkwargs\u001b[0m\u001b[0;34m)\u001b[0m\u001b[0;34m\u001b[0m\u001b[0;34m\u001b[0m\u001b[0m\n\u001b[0m\u001b[1;32m   1103\u001b[0m         \u001b[0;31m# Do not call functions when jit is used\u001b[0m\u001b[0;34m\u001b[0m\u001b[0;34m\u001b[0m\u001b[0m\n\u001b[1;32m   1104\u001b[0m         \u001b[0mfull_backward_hooks\u001b[0m\u001b[0;34m,\u001b[0m \u001b[0mnon_full_backward_hooks\u001b[0m \u001b[0;34m=\u001b[0m \u001b[0;34m[\u001b[0m\u001b[0;34m]\u001b[0m\u001b[0;34m,\u001b[0m \u001b[0;34m[\u001b[0m\u001b[0;34m]\u001b[0m\u001b[0;34m\u001b[0m\u001b[0;34m\u001b[0m\u001b[0m\n",
      "\u001b[0;32m~/anaconda3/envs/bgkraemer_clone/lib/python3.9/site-packages/bgflow-0.1-py3.9.egg/bgflow/nn/flow/base.py\u001b[0m in \u001b[0;36mforward\u001b[0;34m(self, inverse, *xs, **kwargs)\u001b[0m\n\u001b[1;32m     19\u001b[0m             \u001b[0;32mreturn\u001b[0m \u001b[0mself\u001b[0m\u001b[0;34m.\u001b[0m\u001b[0m_inverse\u001b[0m\u001b[0;34m(\u001b[0m\u001b[0;34m*\u001b[0m\u001b[0mxs\u001b[0m\u001b[0;34m,\u001b[0m \u001b[0;34m**\u001b[0m\u001b[0mkwargs\u001b[0m\u001b[0;34m)\u001b[0m\u001b[0;34m\u001b[0m\u001b[0;34m\u001b[0m\u001b[0m\n\u001b[1;32m     20\u001b[0m         \u001b[0;32melse\u001b[0m\u001b[0;34m:\u001b[0m\u001b[0;34m\u001b[0m\u001b[0;34m\u001b[0m\u001b[0m\n\u001b[0;32m---> 21\u001b[0;31m             \u001b[0;32mreturn\u001b[0m \u001b[0mself\u001b[0m\u001b[0;34m.\u001b[0m\u001b[0m_forward\u001b[0m\u001b[0;34m(\u001b[0m\u001b[0;34m*\u001b[0m\u001b[0mxs\u001b[0m\u001b[0;34m,\u001b[0m \u001b[0;34m**\u001b[0m\u001b[0mkwargs\u001b[0m\u001b[0;34m)\u001b[0m\u001b[0;34m\u001b[0m\u001b[0;34m\u001b[0m\u001b[0m\n\u001b[0m",
      "\u001b[0;32m~/anaconda3/envs/bgkraemer_clone/lib/python3.9/site-packages/bgflow-0.1-py3.9.egg/bgflow/nn/flow/coupling.py\u001b[0m in \u001b[0;36m_forward\u001b[0;34m(self, *x, **kwargs)\u001b[0m\n\u001b[1;32m    165\u001b[0m         \u001b[0mcond_inputs\u001b[0m \u001b[0;34m=\u001b[0m \u001b[0mtorch\u001b[0m\u001b[0;34m.\u001b[0m\u001b[0mcat\u001b[0m\u001b[0;34m(\u001b[0m\u001b[0;34m[\u001b[0m\u001b[0mx\u001b[0m\u001b[0;34m[\u001b[0m\u001b[0mi\u001b[0m\u001b[0;34m]\u001b[0m \u001b[0;32mfor\u001b[0m \u001b[0mi\u001b[0m \u001b[0;32min\u001b[0m \u001b[0mself\u001b[0m\u001b[0;34m.\u001b[0m\u001b[0mcond_indices\u001b[0m\u001b[0;34m]\u001b[0m\u001b[0;34m,\u001b[0m \u001b[0mdim\u001b[0m\u001b[0;34m=\u001b[0m\u001b[0mself\u001b[0m\u001b[0;34m.\u001b[0m\u001b[0mcat_dim\u001b[0m\u001b[0;34m)\u001b[0m\u001b[0;34m\u001b[0m\u001b[0;34m\u001b[0m\u001b[0m\n\u001b[1;32m    166\u001b[0m         \u001b[0mx\u001b[0m \u001b[0;34m=\u001b[0m \u001b[0mlist\u001b[0m\u001b[0;34m(\u001b[0m\u001b[0mx\u001b[0m\u001b[0;34m)\u001b[0m\u001b[0;34m\u001b[0m\u001b[0;34m\u001b[0m\u001b[0m\n\u001b[0;32m--> 167\u001b[0;31m         \u001b[0my\u001b[0m\u001b[0;34m,\u001b[0m \u001b[0mdlogp\u001b[0m \u001b[0;34m=\u001b[0m \u001b[0mself\u001b[0m\u001b[0;34m.\u001b[0m\u001b[0mtransformer\u001b[0m\u001b[0;34m.\u001b[0m\u001b[0mforward\u001b[0m\u001b[0;34m(\u001b[0m\u001b[0mcond_inputs\u001b[0m\u001b[0;34m,\u001b[0m \u001b[0minputs\u001b[0m\u001b[0;34m,\u001b[0m \u001b[0;34m**\u001b[0m\u001b[0mkwargs\u001b[0m\u001b[0;34m)\u001b[0m\u001b[0;34m\u001b[0m\u001b[0;34m\u001b[0m\u001b[0m\n\u001b[0m\u001b[1;32m    168\u001b[0m         \u001b[0my\u001b[0m \u001b[0;34m=\u001b[0m \u001b[0mtorch\u001b[0m\u001b[0;34m.\u001b[0m\u001b[0msplit\u001b[0m\u001b[0;34m(\u001b[0m\u001b[0my\u001b[0m\u001b[0;34m,\u001b[0m \u001b[0minput_lengths\u001b[0m\u001b[0;34m,\u001b[0m \u001b[0mself\u001b[0m\u001b[0;34m.\u001b[0m\u001b[0mcat_dim\u001b[0m\u001b[0;34m)\u001b[0m\u001b[0;34m\u001b[0m\u001b[0;34m\u001b[0m\u001b[0m\n\u001b[1;32m    169\u001b[0m         \u001b[0;32mfor\u001b[0m \u001b[0mi\u001b[0m\u001b[0;34m,\u001b[0m \u001b[0myi\u001b[0m \u001b[0;32min\u001b[0m \u001b[0mzip\u001b[0m\u001b[0;34m(\u001b[0m\u001b[0mself\u001b[0m\u001b[0;34m.\u001b[0m\u001b[0mtransformed_indices\u001b[0m\u001b[0;34m,\u001b[0m \u001b[0my\u001b[0m\u001b[0;34m)\u001b[0m\u001b[0;34m:\u001b[0m\u001b[0;34m\u001b[0m\u001b[0;34m\u001b[0m\u001b[0m\n",
      "\u001b[0;32m~/anaconda3/envs/bgkraemer_clone/lib/python3.9/site-packages/bgflow-0.1-py3.9.egg/bgflow/nn/flow/base.py\u001b[0m in \u001b[0;36mforward\u001b[0;34m(self, inverse, *xs, **kwargs)\u001b[0m\n\u001b[1;32m     19\u001b[0m             \u001b[0;32mreturn\u001b[0m \u001b[0mself\u001b[0m\u001b[0;34m.\u001b[0m\u001b[0m_inverse\u001b[0m\u001b[0;34m(\u001b[0m\u001b[0;34m*\u001b[0m\u001b[0mxs\u001b[0m\u001b[0;34m,\u001b[0m \u001b[0;34m**\u001b[0m\u001b[0mkwargs\u001b[0m\u001b[0;34m)\u001b[0m\u001b[0;34m\u001b[0m\u001b[0;34m\u001b[0m\u001b[0m\n\u001b[1;32m     20\u001b[0m         \u001b[0;32melse\u001b[0m\u001b[0;34m:\u001b[0m\u001b[0;34m\u001b[0m\u001b[0;34m\u001b[0m\u001b[0m\n\u001b[0;32m---> 21\u001b[0;31m             \u001b[0;32mreturn\u001b[0m \u001b[0mself\u001b[0m\u001b[0;34m.\u001b[0m\u001b[0m_forward\u001b[0m\u001b[0;34m(\u001b[0m\u001b[0;34m*\u001b[0m\u001b[0mxs\u001b[0m\u001b[0;34m,\u001b[0m \u001b[0;34m**\u001b[0m\u001b[0mkwargs\u001b[0m\u001b[0;34m)\u001b[0m\u001b[0;34m\u001b[0m\u001b[0;34m\u001b[0m\u001b[0m\n\u001b[0m",
      "\u001b[0;32m~/anaconda3/envs/bgkraemer_clone/lib/python3.9/site-packages/bgflow-0.1-py3.9.egg/bgflow/nn/flow/transformer/spline.py\u001b[0m in \u001b[0;36m_forward\u001b[0;34m(self, x, y, *args, **kwargs)\u001b[0m\n\u001b[1;32m    122\u001b[0m             )\n\u001b[1;32m    123\u001b[0m         \u001b[0;32mtry\u001b[0m\u001b[0;34m:\u001b[0m\u001b[0;34m\u001b[0m\u001b[0;34m\u001b[0m\u001b[0m\n\u001b[0;32m--> 124\u001b[0;31m             \u001b[0mz\u001b[0m\u001b[0;34m,\u001b[0m \u001b[0mdlogp\u001b[0m \u001b[0;34m=\u001b[0m \u001b[0mrqs\u001b[0m\u001b[0;34m(\u001b[0m\u001b[0my\u001b[0m\u001b[0;34m)\u001b[0m\u001b[0;34m\u001b[0m\u001b[0;34m\u001b[0m\u001b[0m\n\u001b[0m\u001b[1;32m    125\u001b[0m         \u001b[0;32mexcept\u001b[0m \u001b[0mnflows\u001b[0m\u001b[0;34m.\u001b[0m\u001b[0mtransforms\u001b[0m\u001b[0;34m.\u001b[0m\u001b[0mbase\u001b[0m\u001b[0;34m.\u001b[0m\u001b[0mInputOutsideDomain\u001b[0m\u001b[0;34m:\u001b[0m\u001b[0;34m\u001b[0m\u001b[0;34m\u001b[0m\u001b[0m\n\u001b[1;32m    126\u001b[0m             \u001b[0mexceeded_left\u001b[0m \u001b[0;34m=\u001b[0m \u001b[0;34m(\u001b[0m\u001b[0my\u001b[0m \u001b[0;34m-\u001b[0m \u001b[0mself\u001b[0m\u001b[0;34m.\u001b[0m\u001b[0m_left\u001b[0m\u001b[0;34m)\u001b[0m\u001b[0;34m.\u001b[0m\u001b[0mmin\u001b[0m\u001b[0;34m(\u001b[0m\u001b[0;34m)\u001b[0m\u001b[0;34m\u001b[0m\u001b[0;34m\u001b[0m\u001b[0m\n",
      "\u001b[0;32m~/anaconda3/envs/bgkraemer_clone/lib/python3.9/site-packages/bgflow-0.1-py3.9.egg/bgflow/nn/flow/transformer/spline.py\u001b[0m in \u001b[0;36m<lambda>\u001b[0;34m(y)\u001b[0m\n\u001b[1;32m    110\u001b[0m \u001b[0;34m\u001b[0m\u001b[0m\n\u001b[1;32m    111\u001b[0m         \u001b[0mwidths\u001b[0m\u001b[0;34m,\u001b[0m \u001b[0mheights\u001b[0m\u001b[0;34m,\u001b[0m \u001b[0mslopes\u001b[0m \u001b[0;34m=\u001b[0m \u001b[0mself\u001b[0m\u001b[0;34m.\u001b[0m\u001b[0m_compute_params\u001b[0m\u001b[0;34m(\u001b[0m\u001b[0mx\u001b[0m\u001b[0;34m,\u001b[0m \u001b[0my\u001b[0m\u001b[0;34m.\u001b[0m\u001b[0mshape\u001b[0m\u001b[0;34m[\u001b[0m\u001b[0;34m-\u001b[0m\u001b[0;36m1\u001b[0m\u001b[0;34m]\u001b[0m\u001b[0;34m)\u001b[0m\u001b[0;34m\u001b[0m\u001b[0;34m\u001b[0m\u001b[0m\n\u001b[0;32m--> 112\u001b[0;31m         rqs = lambda y : rational_quadratic_spline(\n\u001b[0m\u001b[1;32m    113\u001b[0m                 \u001b[0my\u001b[0m\u001b[0;34m,\u001b[0m\u001b[0;34m\u001b[0m\u001b[0;34m\u001b[0m\u001b[0m\n\u001b[1;32m    114\u001b[0m                 \u001b[0mwidths\u001b[0m\u001b[0;34m,\u001b[0m\u001b[0;34m\u001b[0m\u001b[0;34m\u001b[0m\u001b[0m\n",
      "\u001b[0;32m~/anaconda3/envs/bgkraemer_clone/lib/python3.9/site-packages/nflows/transforms/splines/rational_quadratic.py\u001b[0m in \u001b[0;36mrational_quadratic_spline\u001b[0;34m(inputs, unnormalized_widths, unnormalized_heights, unnormalized_derivatives, inverse, left, right, bottom, top, min_bin_width, min_bin_height, min_derivative)\u001b[0m\n\u001b[1;32m    133\u001b[0m \u001b[0;34m\u001b[0m\u001b[0m\n\u001b[1;32m    134\u001b[0m         \u001b[0mdiscriminant\u001b[0m \u001b[0;34m=\u001b[0m \u001b[0mb\u001b[0m\u001b[0;34m.\u001b[0m\u001b[0mpow\u001b[0m\u001b[0;34m(\u001b[0m\u001b[0;36m2\u001b[0m\u001b[0;34m)\u001b[0m \u001b[0;34m-\u001b[0m \u001b[0;36m4\u001b[0m \u001b[0;34m*\u001b[0m \u001b[0ma\u001b[0m \u001b[0;34m*\u001b[0m \u001b[0mc\u001b[0m\u001b[0;34m\u001b[0m\u001b[0;34m\u001b[0m\u001b[0m\n\u001b[0;32m--> 135\u001b[0;31m         \u001b[0;32massert\u001b[0m \u001b[0;34m(\u001b[0m\u001b[0mdiscriminant\u001b[0m \u001b[0;34m>=\u001b[0m \u001b[0;36m0\u001b[0m\u001b[0;34m)\u001b[0m\u001b[0;34m.\u001b[0m\u001b[0mall\u001b[0m\u001b[0;34m(\u001b[0m\u001b[0;34m)\u001b[0m\u001b[0;34m\u001b[0m\u001b[0;34m\u001b[0m\u001b[0m\n\u001b[0m\u001b[1;32m    136\u001b[0m \u001b[0;34m\u001b[0m\u001b[0m\n\u001b[1;32m    137\u001b[0m         \u001b[0mroot\u001b[0m \u001b[0;34m=\u001b[0m \u001b[0;34m(\u001b[0m\u001b[0;36m2\u001b[0m \u001b[0;34m*\u001b[0m \u001b[0mc\u001b[0m\u001b[0;34m)\u001b[0m \u001b[0;34m/\u001b[0m \u001b[0;34m(\u001b[0m\u001b[0;34m-\u001b[0m\u001b[0mb\u001b[0m \u001b[0;34m-\u001b[0m \u001b[0mtorch\u001b[0m\u001b[0;34m.\u001b[0m\u001b[0msqrt\u001b[0m\u001b[0;34m(\u001b[0m\u001b[0mdiscriminant\u001b[0m\u001b[0;34m)\u001b[0m\u001b[0;34m)\u001b[0m\u001b[0;34m\u001b[0m\u001b[0;34m\u001b[0m\u001b[0m\n",
      "\u001b[0;31mAssertionError\u001b[0m: "
     ]
    }
   ],
   "source": [
    "from torch.optim.lr_scheduler import ExponentialLR\n",
    "scheduler = ExponentialLR(optim, gamma=0.7)\n",
    "KLL = []\n",
    "NLL = []\n",
    "from tqdm.notebook import tqdm\n",
    "#from tqdm import tqdm_notebook\n",
    "import time\n",
    "tic=time.time()\n",
    "#n_epochs = 30\n",
    "\n",
    "w_energy=0.2\n",
    "w_likelihood = 1 - w_energy\n",
    "clip_forces = True\n",
    "\n",
    "\n",
    "\n",
    "\n",
    "params = [(2,1e-1),(2,5e-1),(2,9e-1)]\n",
    "#params = [(20,1)]\n",
    "epochs=0\n",
    "#params = [(1, 1e-12)]\n",
    "params = [(3,1)]\n",
    "\n",
    "for n_epochs, w_energy in params:\n",
    "    w_likelihood = 1 - w_energy\n",
    "    print(f'n_epochs:{n_epochs}, w_energy: {w_energy}')\n",
    "\n",
    "    for epoch in tqdm(range(n_epochs)):\n",
    "        epochs += 1\n",
    "        print(f\"Epoch {epochs}\")\n",
    "        lr = optim.param_groups[0][\"lr\"]\n",
    "        print(f\"lr: {lr}\")\n",
    "\n",
    "        trainloader = DataLoader(traindata, batch_size=256, shuffle=True, drop_last=True)\n",
    "        valloader = DataLoader(valdata, batch_size=1024, shuffle=True, drop_last=True)\n",
    "\n",
    "        for batch in tqdm(trainloader):\n",
    "            optim.zero_grad()\n",
    "\n",
    "            # nll\n",
    "            nll = generator.energy(batch.to(**ctx)).mean()\n",
    "            #if w_likelihood > 0:\n",
    "             #   l = w_likelihood / (w_likelihood + w_energy)\n",
    "                #torch.autograd.grad(outputs=(l * nll),inputs=generator.parameters(), retain_graph = True)\n",
    "            #nll.backward(retain_graph=True)\n",
    "\n",
    "            #print(\"NLL\", f\"{nll.item():.2f}\")\n",
    "\n",
    "            # kll\n",
    "            kll = generator.kldiv(256).mean()\n",
    "            print(\"NLL\", f\"{nll.item():.2f}\",\"KLL\", f\"{kll.item():.2f}\", end=\"\\r\") \n",
    "            KLL.append(kll.item())\n",
    "            NLL.append(nll.item())\n",
    "            # aggregate weighted gradient\n",
    "            loss = w_likelihood*nll+w_energy*kll\n",
    "            loss.backward()\n",
    "            #if w_energy > 0:\n",
    "              #   l = w_energy / (w_likelihood + w_energy)\n",
    "               # (l * kll).backward()\n",
    "            # constrain forces\n",
    "            if clip_forces is not None:\n",
    "                torch.nn.utils.clip_grad_value_(generator.parameters(), clip_forces)\n",
    "\n",
    "            optim.step()\n",
    "\n",
    "        val_nll = [\n",
    "            generator.energy(batch.to(**ctx)).detach().cpu() \n",
    "            for batch in valloader\n",
    "        ]\n",
    "        print(f\"Validation NLL {torch.cat(val_nll).mean().item():.2f}\")\n",
    "        scheduler.step()\n",
    "toc=time.time()\n",
    "print(F'training took {toc-tic} seconds.')"
   ]
  },
  {
   "cell_type": "code",
   "execution_count": 149,
   "id": "9098462b-1799-446f-a655-8c7011fdc615",
   "metadata": {},
   "outputs": [],
   "source": [
    "torch.save(generator.state_dict(), \"nll+kll_broken.pic\")"
   ]
  },
  {
   "cell_type": "code",
   "execution_count": 130,
   "id": "3ecbbf76",
   "metadata": {},
   "outputs": [],
   "source": [
    "#torch.save(generator.state_dict(), \"nll+kll_latest.pic\")"
   ]
  },
  {
   "cell_type": "code",
   "execution_count": 147,
   "id": "1e2de6e8-63c3-4d09-b9c1-85a664a9308c",
   "metadata": {},
   "outputs": [
    {
     "data": {
      "text/plain": [
       "<All keys matched successfully>"
      ]
     },
     "execution_count": 147,
     "metadata": {},
     "output_type": "execute_result"
    }
   ],
   "source": [
    "generator.load_state_dict(torch.load( \"nll+kll_latest.pic\"))"
   ]
  },
  {
   "cell_type": "code",
   "execution_count": 37,
   "id": "d9fa0580",
   "metadata": {},
   "outputs": [
    {
     "data": {
      "image/png": "[encoded data removed]",
      "text/plain": [
       "<Figure size 432x288 with 2 Axes>"
      ]
     },
     "metadata": {
      "needs_background": "light"
     },
     "output_type": "display_data"
    }
   ],
   "source": [
    "\n",
    "fig, axes = plt.subplots(2)\n",
    "axes[0].plot(NLL)\n",
    "\n",
    "axes[0].set(ylabel='NLL', xlabel='iteration')\n",
    "axes[0].grid()\n",
    "\n",
    "axes[1].plot(KLL)\n",
    "\n",
    "axes[1].set(ylabel='KLL', xlabel='iteration')\n",
    "axes[1].grid()\n",
    "\n",
    "\n",
    "fig.savefig(\"KLL+NLL.png\")\n",
    "plt.show()"
   ]
  },
  {
   "cell_type": "code",
   "execution_count": null,
   "id": "dcb00ac4",
   "metadata": {},
   "outputs": [],
   "source": [
    "KLL = []\n",
    "NLL = []\n",
    "from tqdm.auto import tqdm\n",
    "import time\n",
    "tic=time.time()\n",
    "#n_epochs = 30\n",
    "w_energy=0.1\n",
    "w_likelihood = 1 - w_energy\n",
    "clip_forces = True\n",
    "\n",
    "#params = [(2,1e-1),(5,5e-1),(5,9e-1)]\n",
    "params = [(20,1)]\n",
    "epochs=0\n",
    "#params = [(1, 1e-12)]\n",
    "for n_epochs, w_energy in params:\n",
    "    w_likelihood = 1 - w_energy\n",
    "    print(f'n_epochs:{n_epochs}, w_energy: {w_energy}')\n",
    "\n",
    "    for epoch in tqdm(range(n_epochs)):\n",
    "        epochs += 1\n",
    "        print(f\"Epoch {epochs}\")\n",
    "\n",
    "        trainloader = DataLoader(traindata, batch_size=256, shuffle=True)\n",
    "        valloader = DataLoader(valdata, batch_size=1024, shuffle=True)\n",
    "\n",
    "        for batch in tqdm(trainloader):\n",
    "            optim.zero_grad()\n",
    "\n",
    "            # nll\n",
    "            nll = generator.energy(batch.to(**ctx)).mean()\n",
    "            #if w_likelihood > 0:\n",
    "             #   l = w_likelihood / (w_likelihood + w_energy)\n",
    "                #torch.autograd.grad(outputs=(l * nll),inputs=generator.parameters(), retain_graph = True)\n",
    "            #nll.backward(retain_graph=True)\n",
    "\n",
    "            #print(\"NLL\", f\"{nll.item():.2f}\")\n",
    "\n",
    "            # kll\n",
    "            kll = generator.kldiv(256).mean()\n",
    "            print(\"NLL\", f\"{nll.item():.2f}\",\"KLL\", f\"{kll.item():.2f}\", end=\"\\r\") \n",
    "            KLL.append(kll.item())\n",
    "            NLL.append(nll.item())\n",
    "            # aggregate weighted gradient\n",
    "            loss = w_likelihood*nll+w_energy*kll\n",
    "            loss.backward()\n",
    "            #if w_energy > 0:\n",
    "              #   l = w_energy / (w_likelihood + w_energy)\n",
    "               # (l * kll).backward()\n",
    "            # constrain forces\n",
    "            if clip_forces is not None:\n",
    "                torch.nn.utils.clip_grad_value_(generator.parameters(), clip_forces)\n",
    "\n",
    "            optim.step()\n",
    "\n",
    "        val_nll = [\n",
    "            generator.energy(batch.to(**ctx)).detach().cpu() \n",
    "            for batch in valloader\n",
    "        ]\n",
    "        print(f\"Validation NLL {torch.cat(val_nll).mean().item():.2f}\")\n",
    "toc=time.time()\n",
    "print(F'training took {toc-tic} seconds.')"
   ]
  },
  {
   "cell_type": "code",
   "execution_count": null,
   "id": "dd66ce4a",
   "metadata": {},
   "outputs": [],
   "source": [
    "torch.save(generator.state_dict(), \"nll+kll_science_1.pic\")"
   ]
  },
  {
   "cell_type": "code",
   "execution_count": null,
   "id": "13ccc7e3",
   "metadata": {},
   "outputs": [],
   "source": [
    "\n",
    "fig, axes = plt.subplots(2)\n",
    "axes[0].plot(NLL)\n",
    "\n",
    "axes[0].set(ylabel='NLL', xlabel='iteration')\n",
    "axes[0].grid()\n",
    "\n",
    "axes[1].plot(KLL)\n",
    "\n",
    "axes[1].set(ylabel='KLL', xlabel='iteration')\n",
    "axes[1].grid()\n",
    "\n",
    "\n",
    "fig.savefig(\"KLL+NLL.png\")\n",
    "plt.show()"
   ]
  },
  {
   "cell_type": "code",
   "execution_count": null,
   "id": "24a4bb42",
   "metadata": {},
   "outputs": [],
   "source": []
  },
  {
   "cell_type": "code",
   "execution_count": 34,
   "id": "86f015d4",
   "metadata": {
    "collapsed": true,
    "jupyter": {
     "outputs_hidden": true
    }
   },
   "outputs": [
    {
     "data": {
      "image/png": "[encoded data removed]",
      "text/plain": [
       "<Figure size 432x288 with 1 Axes>"
      ]
     },
     "metadata": {
      "needs_background": "light"
     },
     "output_type": "display_data"
    }
   ],
   "source": [
    "t = np.arange(1,12)\n",
    "fig, ax = plt.subplots()\n",
    "ax.plot(t, times)\n",
    "\n",
    "ax.set(ylabel='time (s)', xlabel='n_workers',\n",
    "       title='About as simple as it gets, folks')\n",
    "ax.grid()\n",
    "\n",
    "fig.savefig(\"benchmark_multiprocessing.png\")\n",
    "plt.show()"
   ]
  },
  {
   "cell_type": "code",
   "execution_count": 37,
   "id": "b3f88fe5",
   "metadata": {},
   "outputs": [
    {
     "data": {
      "text/plain": [
       "{'device': device(type='cpu'), 'dtype': torch.float32}"
      ]
     },
     "execution_count": 37,
     "metadata": {},
     "output_type": "execute_result"
    }
   ],
   "source": [
    "ctx"
   ]
  },
  {
   "cell_type": "code",
   "execution_count": 39,
   "id": "593bf2a8",
   "metadata": {},
   "outputs": [
    {
     "ename": "AttributeError",
     "evalue": "'dict' object has no attribute '__dict__'",
     "output_type": "error",
     "traceback": [
      "\u001b[0;31m---------------------------------------------------------------------------\u001b[0m",
      "\u001b[0;31mAttributeError\u001b[0m                            Traceback (most recent call last)",
      "\u001b[0;32m/tmp/ipykernel_22146/4176923669.py\u001b[0m in \u001b[0;36m<module>\u001b[0;34m\u001b[0m\n\u001b[0;32m----> 1\u001b[0;31m \u001b[0mctx\u001b[0m\u001b[0;34m.\u001b[0m\u001b[0m__dict__\u001b[0m\u001b[0;34m\u001b[0m\u001b[0;34m\u001b[0m\u001b[0m\n\u001b[0m",
      "\u001b[0;31mAttributeError\u001b[0m: 'dict' object has no attribute '__dict__'"
     ]
    }
   ],
   "source": [
    "ctx.__dict__"
   ]
  },
  {
   "cell_type": "code",
   "execution_count": null,
   "id": "8528a56f",
   "metadata": {},
   "outputs": [],
   "source": []
  }
 ],
 "metadata": {
  "kernelspec": {
   "display_name": "bgkraemer_clone",
   "language": "python",
   "name": "bgkraemer_clone"
  },
  "language_info": {
   "codemirror_mode": {
    "name": "ipython",
    "version": 3
   },
   "file_extension": ".py",
   "mimetype": "text/x-python",
   "name": "python",
   "nbconvert_exporter": "python",
   "pygments_lexer": "ipython3",
   "version": "3.9.7"
  }
 },
 "nbformat": 4,
 "nbformat_minor": 5
}
