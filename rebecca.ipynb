{
 "cells": [
  {
   "cell_type": "code",
   "execution_count": 1,
   "id": "52cf5151-5080-45c4-a8a2-f3f865d8eddb",
   "metadata": {},
   "outputs": [
    {
     "data": {
      "application/vnd.jupyter.widget-view+json": {
       "model_id": "79d6441e651e4eaca710378ede747b09",
       "version_major": 2,
       "version_minor": 0
      },
      "text/plain": []
     },
     "metadata": {},
     "output_type": "display_data"
    }
   ],
   "source": [
    "import pickle\n",
    "with open('dictionary.pickle','rb') as f:\n",
    "    dictionary = pickle.load(f)\n",
    "\n",
    "import numpy as np\n",
    "\n",
    "from matplotlib import pyplot as plt\n",
    "\n",
    "import mdtraj as md \n",
    "from matplotlib.colors import LogNorm\n",
    "import nglview as nv\n",
    "import ipywidgets as widgets\n",
    "\n",
    "def compute_phi_psi(traj):\n",
    "    \"\"\"Compute backbone dihedrals.\n",
    "\n",
    "    Parameters\n",
    "    ----------\n",
    "    traj : mdtraj.Trajectory\n",
    "    \"\"\"\n",
    "    phi_atoms = [25,27,29,46]\n",
    "    phi = md.compute_dihedrals(traj, indices=[phi_atoms])[:, 0]\n",
    "    psi_atoms = [27,29,46,48]\n",
    "    psi = md.compute_dihedrals(traj, indices=[psi_atoms])[:, 0]\n",
    "    return phi, psi\n",
    "\n",
    "def get_extension(samples):\n",
    "    xyzs = samples.reshape(samples.shape[0],-1,3)\n",
    "    atom1, atom10 = xyzs[:,0,:], xyzs[:,150,:]\n",
    "    distance = np.linalg.norm(atom1 - atom10, axis = 1).mean()\n",
    "    return distance\n",
    "\n",
    "def plot_phi_psi(ax, trajectory, topology):\n",
    "    if not isinstance(trajectory, md.Trajectory):\n",
    "        trajectory = md.Trajectory(\n",
    "            xyz=trajectory.reshape(-1, 175, 3), \n",
    "            topology=topology\n",
    "        )\n",
    "    phi, psi = compute_phi_psi(trajectory)\n",
    "    \n",
    "    ax.hist2d(phi, psi, 50, norm=LogNorm())\n",
    "    ax.set_xlim(-np.pi, np.pi)\n",
    "    ax.set_ylim(-np.pi, np.pi)\n",
    "    ax.set_xlabel(\"$\\phi$\")\n",
    "    _ = ax.set_ylabel(\"$\\psi$\")\n",
    "    \n",
    "    return trajectory\n",
    "\n",
    "def get_extension(samples):\n",
    "    xyzs = samples.reshape(samples.shape[0],-1,3)\n",
    "    atom1, atom10 = xyzs[:,0,:], xyzs[:,150,:]\n",
    "    distance = np.linalg.norm(atom1 - atom10, axis = 1).mean()\n",
    "    return distance\n",
    "\n",
    "\n",
    "def plot_energies(ax, energies_sorted, test_data_energies, zoom = False):\n",
    "    energies_sorted = energies_sorted.numpy()\n",
    "    test_data_energies = test_data_energies.numpy()\n",
    "    #sample_energies = target_energy.energy(torch.Tensor(samples)).numpy()\n",
    "    #md_energies = target_energy.energy(torch.Tensor(test_data[:len(samples)])).cpu().detach().numpy()\n",
    "    cut = max(np.percentile(energies_sorted, 80), 20)\n",
    "    if zoom == True:\n",
    "        \n",
    "        cut = cut * 1e-7\n",
    "    #print(f\"cut {cut}\")\n",
    "    ax.set_xlabel(\"Energy   [$k_B T$]\")\n",
    "    # y-axis on the right\n",
    "    ax2 = plt.twinx(ax)\n",
    "    ax.get_yaxis().set_visible(False)\n",
    "    \n",
    "    ax2.hist(energies_sorted, range=(-50, cut), bins=40, density=False, label=\"BG\")\n",
    "    ax2.hist(test_data_energies, range=(-50, cut), bins=40, density=False, label=\"MD\", alpha = 0.5)\n",
    "    ax2.set_ylabel(f\"Count   [#Samples / {len(energies_sorted)}]\")\n",
    "    ax2.legend()\n",
    "\n",
    "\n",
    "def evaluate_generator(samples_sorted, energies_sorted, test_data_energies, topology, num_energy = 1000, num_widget = 100):\n",
    "\n",
    "    extension = get_extension(samples_sorted)\n",
    "    print(f'mean extension: {extension:.2f}')\n",
    "    \n",
    "    \n",
    "    fig, axes = plt.subplots(1, 3, figsize=(9,3))\n",
    "    \n",
    "    plot_energies(axes[0], energies_sorted, test_data_energies, zoom = True)\n",
    "    plot_energies(axes[1], energies_sorted, test_data_energies)\n",
    "\n",
    "    #plot_tics(samples, axes[0])\n",
    "    plot_phi_psi(axes[2], samples_sorted, topology)\n",
    "    fig.tight_layout()\n",
    "    global widget\n",
    "    \n",
    "    widget = show_structures(np.concatenate((samples_sorted[:100],samples_sorted[-100:])))\n",
    "    \n",
    "    init_value = np.around(energies_sorted[0].item(), decimals = 2)\n",
    "    output2 = widgets.BoundedFloatText(\n",
    "        value = init_value,\n",
    "        description='Energy [ $k_B T$ ]] :',\n",
    "        disabled=True,\n",
    "        min = -1e20,\n",
    "        max = 1e50\n",
    "    )\n",
    "    display(output2)\n",
    "    \n",
    "    def on_value_change(change):\n",
    "        if change['new'] > 99:\n",
    "            value = np.around(energies_sorted[change['new']+800].item(), decimals = 2)\n",
    "        else:\n",
    "            value = np.around(energies_sorted[change['new']].item(), decimals = 2)\n",
    "        output2.value = value\n",
    "    widget._iplayer._trait_values[\"children\"][1].observe(on_value_change, names='value')\n",
    "\n",
    "    display(widget)    \n",
    "\n",
    "def show_structures(traj, top=dictionary[\"mdtraj_topology\"]):\n",
    "    if not isinstance(traj, md.Trajectory):\n",
    "        n_samples = traj.shape[0]\n",
    "        traj = md.Trajectory(traj.reshape(n_samples, -1, 3), topology=top)\n",
    "    traj.superpose(traj)\n",
    "    widget = nv.show_mdtraj(traj)\n",
    "    widget.add_representation(\"licorice\")\n",
    "    return widget\n",
    "    "
   ]
  },
  {
   "cell_type": "markdown",
   "id": "d35c960a-6bb7-4390-b627-4fab9bb982b5",
   "metadata": {},
   "source": [
    "below, samples of the chignoline BG can be inspected. the fist 100 samples are the 100 lowest energy samples from 1000 samples. samples 100 to 199 are the highest energy samples of 1000."
   ]
  },
  {
   "cell_type": "code",
   "execution_count": 2,
   "id": "aab49fba-0dcc-4f09-a1ea-8c7dfede5214",
   "metadata": {},
   "outputs": [
    {
     "name": "stdout",
     "output_type": "stream",
     "text": [
      "mean extension: 1.37\n"
     ]
    },
    {
     "data": {
      "application/vnd.jupyter.widget-view+json": {
       "model_id": "e91dc6571c654782bd18d62b74ab95ea",
       "version_major": 2,
       "version_minor": 0
      },
      "text/plain": [
       "BoundedFloatText(value=20.99, description='Energy [ $k_B T$ ]] :', disabled=True, max=1e+50, min=-1e+20)"
      ]
     },
     "metadata": {},
     "output_type": "display_data"
    },
    {
     "data": {
      "application/vnd.jupyter.widget-view+json": {
       "model_id": "86050c95502d4416af2872e009bd2bb1",
       "version_major": 2,
       "version_minor": 0
      },
      "text/plain": [
       "NGLWidget(max_frame=199)"
      ]
     },
     "metadata": {},
     "output_type": "display_data"
    },
    {
     "data": {
      "image/png": "[encoded data removed]",
      "text/plain": [
       "<Figure size 648x216 with 5 Axes>"
      ]
     },
     "metadata": {
      "needs_background": "light"
     },
     "output_type": "display_data"
    }
   ],
   "source": [
    "evaluate_generator(samples_sorted = dictionary[\"samples_sorted\"], energies_sorted = dictionary[\"energies_sorted\"][:1000], test_data_energies = dictionary[\"test_data_energies\"].squeeze()[:1000],\n",
    "                  topology = dictionary[\"mdtraj_topology\"])"
   ]
  },
  {
   "cell_type": "code",
   "execution_count": 63,
   "id": "a154e900-50a5-40a4-8a8c-b2eb11549094",
   "metadata": {},
   "outputs": [],
   "source": [
    "widget.clear()"
   ]
  },
  {
   "cell_type": "code",
   "execution_count": 50,
   "id": "f442d06d-c366-43a6-8d46-bf8bfcc86893",
   "metadata": {},
   "outputs": [],
   "source": [
    "selection = dictionary[\"mdtraj_topology\"].select(\"resid == 8\")"
   ]
  },
  {
   "cell_type": "code",
   "execution_count": 51,
   "id": "02ce7162-4fd7-4327-bcf6-38930fd5c01b",
   "metadata": {},
   "outputs": [],
   "source": [
    "selection = dictionary[\"mdtraj_topology\"].select(\"protein\")"
   ]
  },
  {
   "cell_type": "code",
   "execution_count": 53,
   "id": "4a13a5cf-e239-4846-92b0-3a20a0e27d59",
   "metadata": {},
   "outputs": [],
   "source": [
    "widget.add_representation(\"licorice\", selection=selection)"
   ]
  },
  {
   "cell_type": "code",
   "execution_count": 49,
   "id": "4ae746d7-b073-45cb-9b71-101374005e79",
   "metadata": {},
   "outputs": [
    {
     "data": {
      "text/plain": [
       "dict_keys(['samples_sorted', 'energies_sorted', 'mdtraj_topology', 'test_data_energies', 'test_data_samples'])"
      ]
     },
     "execution_count": 49,
     "metadata": {},
     "output_type": "execute_result"
    }
   ],
   "source": [
    "dictionary.keys()"
   ]
  },
  {
   "cell_type": "code",
   "execution_count": null,
   "id": "cd72d9b5-f6c4-42d5-a96d-791333414057",
   "metadata": {},
   "outputs": [],
   "source": []
  }
 ],
 "metadata": {
  "kernelspec": {
   "display_name": "rebecca",
   "language": "python",
   "name": "rebecca"
  },
  "language_info": {
   "codemirror_mode": {
    "name": "ipython",
    "version": 3
   },
   "file_extension": ".py",
   "mimetype": "text/x-python",
   "name": "python",
   "nbconvert_exporter": "python",
   "pygments_lexer": "ipython3",
   "version": "3.7.12"
  }
 },
 "nbformat": 4,
 "nbformat_minor": 5
}
